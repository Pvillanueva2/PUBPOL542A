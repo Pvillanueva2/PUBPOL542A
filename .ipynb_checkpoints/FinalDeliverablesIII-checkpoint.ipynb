{
 "cells": [
  {
   "cell_type": "markdown",
   "id": "9b7e26df",
   "metadata": {},
   "source": [
    "# Optimization Problem"
   ]
  },
  {
   "cell_type": "code",
   "execution_count": 1,
   "id": "91c859c7",
   "metadata": {},
   "outputs": [
    {
     "name": "stdout",
     "output_type": "stream",
     "text": [
      "Welcome to the CBC MILP Solver \n",
      "Version: 2.10.3 \n",
      "Build Date: Dec 15 2019 \n",
      "\n",
      "command line - /Users/wolfy/Documents/anaconda3/envs/PUBPOL/lib/python3.9/site-packages/pulp/solverdir/cbc/osx/64/cbc /var/folders/sv/1bpgx38n2yn14wm9qk7cqmrc0000gn/T/b13dade30b2d4702bdaa22fdc9511903-pulp.mps max timeMode elapsed branch printingOptions all solution /var/folders/sv/1bpgx38n2yn14wm9qk7cqmrc0000gn/T/b13dade30b2d4702bdaa22fdc9511903-pulp.sol (default strategy 1)\n",
      "At line 2 NAME          MODEL\n",
      "At line 3 ROWS\n",
      "At line 7 COLUMNS\n",
      "At line 16 RHS\n",
      "At line 19 BOUNDS\n",
      "At line 20 ENDATA\n",
      "Problem MODEL has 2 rows, 3 columns and 5 elements\n",
      "Coin0008I MODEL read with 0 errors\n",
      "Option for timeMode changed from cpu to elapsed\n",
      "Presolve 0 (-2) rows, 0 (-3) columns and 0 (-5) elements\n",
      "Empty problem - 0 rows, 0 columns and 0 elements\n",
      "Optimal - objective value 1140000\n",
      "After Postsolve, objective 1140000, infeasibilities - dual 0 (0), primal 0 (0)\n",
      "Optimal objective 1140000 - 0 iterations time 0.002, Presolve 0.00\n",
      "Option for printingOptions changed from normal to all\n",
      "Total time (CPU seconds):       0.00   (Wallclock seconds):       0.01\n",
      "\n"
     ]
    }
   ],
   "source": [
    "#importing problems into Python\n",
    "from pulp import LpMaximize,LpProblem,LpVariable,LpConstraint, value\n",
    "from pulp import COIN_CMD\n",
    "from pulp import LpConstraintGE as GE\n",
    "from pulp import LpConstraintLE as LE\n",
    "\n",
    "#building a model and identifying variables\n",
    "\n",
    "model = LpProblem(name='airplinemarket-problem', sense=LpMaximize)\n",
    "\n",
    "x = LpVariable(name='San Diego', lowBound=0, cat='Continuous')\n",
    "y = LpVariable(name=\"San Francisco\", lowBound=0, cat=\"Continuous\")\n",
    "z = LpVariable(name=\"Las Vegas\", lowBound=0, cat=\"Continuous\")\n",
    "\n",
    "Rev = 1900*x + 700*y + 1000*z\n",
    "\n",
    "#applying constraints\n",
    "\n",
    "C1 = LpConstraint(name='Flight-Price Constraint',\n",
    "                 e= x+y+z, sense=LE, rhs=600)\n",
    "C2 = LpConstraint(name='Cost Airfare',\n",
    "                 e= 14*y + 40*z, sense=LE, rhs=0)\n",
    "\n",
    "#solving model\n",
    "model += Rev\n",
    "model += C1\n",
    "model += C2\n",
    "\n",
    "#solver = COIN_CMD(msg=False)\n",
    "result = model.solve() #solver"
   ]
  },
  {
   "cell_type": "code",
   "execution_count": 2,
   "id": "9de07116",
   "metadata": {},
   "outputs": [
    {
     "name": "stdout",
     "output_type": "stream",
     "text": [
      "Optimal Result\n",
      "Las_Vegas = 0.0\n",
      "San_Diego = 600.0\n",
      "San_Francisco = 0.0\n"
     ]
    }
   ],
   "source": [
    "print(\"Optimal Result\")\n",
    "for variable in model.variables():\n",
    "    print (variable.name, \"=\", variable.varValue)"
   ]
  },
  {
   "cell_type": "code",
   "execution_count": 3,
   "id": "01deb4d9",
   "metadata": {},
   "outputs": [
    {
     "name": "stdout",
     "output_type": "stream",
     "text": [
      "Total net max profit:\n",
      "1140000.0\n"
     ]
    }
   ],
   "source": [
    "print(\"Total net max profit:\")\n",
    "print (value(model.objective))"
   ]
  },
  {
   "cell_type": "code",
   "execution_count": 4,
   "id": "da181249",
   "metadata": {},
   "outputs": [
    {
     "name": "stdout",
     "output_type": "stream",
     "text": [
      "Slack/Surplus\n",
      "Flight_Price_Constraint:0.0\n",
      "Cost_Airfare:0.0\n"
     ]
    }
   ],
   "source": [
    "print(\"Slack/Surplus\")\n",
    "for name, constraint in model. constraints.items():\n",
    "    print(name + ':' + str(constraint.value()))"
   ]
  },
  {
   "cell_type": "markdown",
   "id": "4aaf7431",
   "metadata": {},
   "source": [
    "# Social Simulation"
   ]
  },
  {
   "cell_type": "code",
   "execution_count": 5,
   "id": "732aaf0b",
   "metadata": {},
   "outputs": [],
   "source": [
    "#setting up strategies variable\n",
    "strategies = ['Rock', 'Paper', 'Scissors','Lizard','Spock']"
   ]
  },
  {
   "cell_type": "code",
   "execution_count": 6,
   "id": "a53220bd",
   "metadata": {},
   "outputs": [],
   "source": [
    "#applying rules\n",
    "payoff={('Scissors','Paper'):(1,0),\n",
    "        ('Paper', 'Scissors'):(0,1),\n",
    "        ('Paper','Rock'):(1,0),\n",
    "        ('Rock', 'Paper'):(0,1),\n",
    "        ('Rock','Lizard'):(1,0),\n",
    "        ('Lizard', 'Rock'):(0,1),\n",
    "        ('Spock', 'Scissors'):(1,0),\n",
    "        ('Scissors', 'Spock'):(0,1),\n",
    "        ('Scissors','Lizard'):(1,0),\n",
    "        ('Lizard', 'Scissors'):(0,1),\n",
    "        ('Lizard', 'Paper'):(1,0),\n",
    "        ('Paper', 'Lizard'):(0,1),\n",
    "        ('Paper','Spock'):(1,0),\n",
    "        ('Spock', 'Paper'):(0,1),\n",
    "        ('Spock','Rock'):(1,0),\n",
    "        ('Rock', 'Spock'):(0,1),\n",
    "        ('Rock','Scissors'):(1,0),\n",
    "        ('Scissors', 'Rock'):(0,1),\n",
    "        ('Scissors', 'Scissors'):(0,0),\n",
    "        ('Paper', 'Paper'):(0,0),\n",
    "        ('Rock', 'Rock',):(0,0),\n",
    "        ('Lizard', 'Lizard'):(0,0),\n",
    "        ('Spock', 'Spock'):(0,0),\n",
    "        ('Lizard', 'Spock'):(1,0),\n",
    "        ('Spock', 'Lizard'):(0,1)}"
   ]
  },
  {
   "cell_type": "code",
   "execution_count": 7,
   "id": "1f631beb",
   "metadata": {},
   "outputs": [
    {
     "data": {
      "text/plain": [
       "'Spock'"
      ]
     },
     "execution_count": 7,
     "metadata": {},
     "output_type": "execute_result"
    }
   ],
   "source": [
    "from random import choice\n",
    "\n",
    "#simples: choose randomly\n",
    "choice(strategies)"
   ]
  },
  {
   "cell_type": "code",
   "execution_count": 8,
   "id": "83fc2433",
   "metadata": {},
   "outputs": [],
   "source": [
    "#setting up players\n",
    "Players = [{'name':'Magallanes', 'score':0, 'strategy':None},\n",
    "           {'name':'Villanueva', 'score':0, 'strategy':None}]"
   ]
  },
  {
   "cell_type": "code",
   "execution_count": 9,
   "id": "2c61a2b6",
   "metadata": {},
   "outputs": [],
   "source": [
    "#agent makes a choice\n",
    "Players[0]['strategy']=choice(strategies)\n",
    "Players[1]['strategy']=choice(strategies)"
   ]
  },
  {
   "cell_type": "code",
   "execution_count": 10,
   "id": "8e0b1b73",
   "metadata": {},
   "outputs": [],
   "source": [
    "#payoff\n",
    "\n",
    "result=payoff[Players[0]['strategy'], Players[1]['strategy']]"
   ]
  },
  {
   "cell_type": "code",
   "execution_count": 11,
   "id": "3241b158",
   "metadata": {},
   "outputs": [],
   "source": [
    "#applying scores on decisions made\n",
    "Players[0]['score']+=result[0]\n",
    "Players[1]['score']+=result[1]"
   ]
  },
  {
   "cell_type": "code",
   "execution_count": 12,
   "id": "e987e82b",
   "metadata": {},
   "outputs": [
    {
     "data": {
      "text/html": [
       "<div>\n",
       "<style scoped>\n",
       "    .dataframe tbody tr th:only-of-type {\n",
       "        vertical-align: middle;\n",
       "    }\n",
       "\n",
       "    .dataframe tbody tr th {\n",
       "        vertical-align: top;\n",
       "    }\n",
       "\n",
       "    .dataframe thead th {\n",
       "        text-align: right;\n",
       "    }\n",
       "</style>\n",
       "<table border=\"1\" class=\"dataframe\">\n",
       "  <thead>\n",
       "    <tr style=\"text-align: right;\">\n",
       "      <th></th>\n",
       "      <th>name</th>\n",
       "      <th>score</th>\n",
       "      <th>strategy</th>\n",
       "    </tr>\n",
       "  </thead>\n",
       "  <tbody>\n",
       "    <tr>\n",
       "      <th>0</th>\n",
       "      <td>Magallanes</td>\n",
       "      <td>1</td>\n",
       "      <td>Rock</td>\n",
       "    </tr>\n",
       "    <tr>\n",
       "      <th>1</th>\n",
       "      <td>Villanueva</td>\n",
       "      <td>0</td>\n",
       "      <td>Scissors</td>\n",
       "    </tr>\n",
       "  </tbody>\n",
       "</table>\n",
       "</div>"
      ],
      "text/plain": [
       "         name  score  strategy\n",
       "0  Magallanes      1      Rock\n",
       "1  Villanueva      0  Scissors"
      ]
     },
     "execution_count": 12,
     "metadata": {},
     "output_type": "execute_result"
    }
   ],
   "source": [
    "#importing pandas to use function for social outcome\n",
    "\n",
    "import pandas as pd\n",
    "\n",
    "socialResults=pd.DataFrame((Players[0], Players[1]))\n",
    "socialResults"
   ]
  },
  {
   "cell_type": "raw",
   "id": "2f89a2ac",
   "metadata": {},
   "source": [
    "winnerScore = socialResults.score.max()\n",
    "\n",
    "#social outcome\n",
    "socialResults[socialResults.score===winnerScore]"
   ]
  },
  {
   "cell_type": "code",
   "execution_count": 13,
   "id": "696de940",
   "metadata": {},
   "outputs": [],
   "source": [
    "names = ['Aldahnim', 'Blake', 'Dawson', 'Hu', 'Kang', 'Madlambayan','Magallanes', 'Moore', 'P', 'Patschke', 'Popic','Villanueva']"
   ]
  },
  {
   "cell_type": "code",
   "execution_count": 14,
   "id": "df0d77d2",
   "metadata": {},
   "outputs": [],
   "source": [
    "#setting up players\n",
    "classmates = [{'name':n, 'score':0, 'strategy':None} for n in names]"
   ]
  },
  {
   "cell_type": "code",
   "execution_count": 15,
   "id": "7d3d2b94",
   "metadata": {},
   "outputs": [
    {
     "data": {
      "text/plain": [
       "[{'name': 'Aldahnim', 'score': 0, 'strategy': None},\n",
       " {'name': 'Blake', 'score': 0, 'strategy': None},\n",
       " {'name': 'Dawson', 'score': 0, 'strategy': None},\n",
       " {'name': 'Hu', 'score': 0, 'strategy': None},\n",
       " {'name': 'Kang', 'score': 0, 'strategy': None},\n",
       " {'name': 'Madlambayan', 'score': 0, 'strategy': None},\n",
       " {'name': 'Magallanes', 'score': 0, 'strategy': None},\n",
       " {'name': 'Moore', 'score': 0, 'strategy': None},\n",
       " {'name': 'P', 'score': 0, 'strategy': None},\n",
       " {'name': 'Patschke', 'score': 0, 'strategy': None},\n",
       " {'name': 'Popic', 'score': 0, 'strategy': None},\n",
       " {'name': 'Villanueva', 'score': 0, 'strategy': None}]"
      ]
     },
     "execution_count": 15,
     "metadata": {},
     "output_type": "execute_result"
    }
   ],
   "source": [
    "classmates"
   ]
  },
  {
   "cell_type": "code",
   "execution_count": 16,
   "id": "536ba66e",
   "metadata": {},
   "outputs": [
    {
     "name": "stdout",
     "output_type": "stream",
     "text": [
      "({'name': 'Aldahnim', 'score': 0, 'strategy': None}, {'name': 'Blake', 'score': 0, 'strategy': None})\n",
      "({'name': 'Aldahnim', 'score': 0, 'strategy': None}, {'name': 'Dawson', 'score': 0, 'strategy': None})\n",
      "({'name': 'Aldahnim', 'score': 0, 'strategy': None}, {'name': 'Hu', 'score': 0, 'strategy': None})\n",
      "({'name': 'Aldahnim', 'score': 0, 'strategy': None}, {'name': 'Kang', 'score': 0, 'strategy': None})\n",
      "({'name': 'Aldahnim', 'score': 0, 'strategy': None}, {'name': 'Madlambayan', 'score': 0, 'strategy': None})\n",
      "({'name': 'Aldahnim', 'score': 0, 'strategy': None}, {'name': 'Magallanes', 'score': 0, 'strategy': None})\n",
      "({'name': 'Aldahnim', 'score': 0, 'strategy': None}, {'name': 'Moore', 'score': 0, 'strategy': None})\n",
      "({'name': 'Aldahnim', 'score': 0, 'strategy': None}, {'name': 'P', 'score': 0, 'strategy': None})\n",
      "({'name': 'Aldahnim', 'score': 0, 'strategy': None}, {'name': 'Patschke', 'score': 0, 'strategy': None})\n",
      "({'name': 'Aldahnim', 'score': 0, 'strategy': None}, {'name': 'Popic', 'score': 0, 'strategy': None})\n",
      "({'name': 'Aldahnim', 'score': 0, 'strategy': None}, {'name': 'Villanueva', 'score': 0, 'strategy': None})\n",
      "({'name': 'Blake', 'score': 0, 'strategy': None}, {'name': 'Dawson', 'score': 0, 'strategy': None})\n",
      "({'name': 'Blake', 'score': 0, 'strategy': None}, {'name': 'Hu', 'score': 0, 'strategy': None})\n",
      "({'name': 'Blake', 'score': 0, 'strategy': None}, {'name': 'Kang', 'score': 0, 'strategy': None})\n",
      "({'name': 'Blake', 'score': 0, 'strategy': None}, {'name': 'Madlambayan', 'score': 0, 'strategy': None})\n",
      "({'name': 'Blake', 'score': 0, 'strategy': None}, {'name': 'Magallanes', 'score': 0, 'strategy': None})\n",
      "({'name': 'Blake', 'score': 0, 'strategy': None}, {'name': 'Moore', 'score': 0, 'strategy': None})\n",
      "({'name': 'Blake', 'score': 0, 'strategy': None}, {'name': 'P', 'score': 0, 'strategy': None})\n",
      "({'name': 'Blake', 'score': 0, 'strategy': None}, {'name': 'Patschke', 'score': 0, 'strategy': None})\n",
      "({'name': 'Blake', 'score': 0, 'strategy': None}, {'name': 'Popic', 'score': 0, 'strategy': None})\n",
      "({'name': 'Blake', 'score': 0, 'strategy': None}, {'name': 'Villanueva', 'score': 0, 'strategy': None})\n",
      "({'name': 'Dawson', 'score': 0, 'strategy': None}, {'name': 'Hu', 'score': 0, 'strategy': None})\n",
      "({'name': 'Dawson', 'score': 0, 'strategy': None}, {'name': 'Kang', 'score': 0, 'strategy': None})\n",
      "({'name': 'Dawson', 'score': 0, 'strategy': None}, {'name': 'Madlambayan', 'score': 0, 'strategy': None})\n",
      "({'name': 'Dawson', 'score': 0, 'strategy': None}, {'name': 'Magallanes', 'score': 0, 'strategy': None})\n",
      "({'name': 'Dawson', 'score': 0, 'strategy': None}, {'name': 'Moore', 'score': 0, 'strategy': None})\n",
      "({'name': 'Dawson', 'score': 0, 'strategy': None}, {'name': 'P', 'score': 0, 'strategy': None})\n",
      "({'name': 'Dawson', 'score': 0, 'strategy': None}, {'name': 'Patschke', 'score': 0, 'strategy': None})\n",
      "({'name': 'Dawson', 'score': 0, 'strategy': None}, {'name': 'Popic', 'score': 0, 'strategy': None})\n",
      "({'name': 'Dawson', 'score': 0, 'strategy': None}, {'name': 'Villanueva', 'score': 0, 'strategy': None})\n",
      "({'name': 'Hu', 'score': 0, 'strategy': None}, {'name': 'Kang', 'score': 0, 'strategy': None})\n",
      "({'name': 'Hu', 'score': 0, 'strategy': None}, {'name': 'Madlambayan', 'score': 0, 'strategy': None})\n",
      "({'name': 'Hu', 'score': 0, 'strategy': None}, {'name': 'Magallanes', 'score': 0, 'strategy': None})\n",
      "({'name': 'Hu', 'score': 0, 'strategy': None}, {'name': 'Moore', 'score': 0, 'strategy': None})\n",
      "({'name': 'Hu', 'score': 0, 'strategy': None}, {'name': 'P', 'score': 0, 'strategy': None})\n",
      "({'name': 'Hu', 'score': 0, 'strategy': None}, {'name': 'Patschke', 'score': 0, 'strategy': None})\n",
      "({'name': 'Hu', 'score': 0, 'strategy': None}, {'name': 'Popic', 'score': 0, 'strategy': None})\n",
      "({'name': 'Hu', 'score': 0, 'strategy': None}, {'name': 'Villanueva', 'score': 0, 'strategy': None})\n",
      "({'name': 'Kang', 'score': 0, 'strategy': None}, {'name': 'Madlambayan', 'score': 0, 'strategy': None})\n",
      "({'name': 'Kang', 'score': 0, 'strategy': None}, {'name': 'Magallanes', 'score': 0, 'strategy': None})\n",
      "({'name': 'Kang', 'score': 0, 'strategy': None}, {'name': 'Moore', 'score': 0, 'strategy': None})\n",
      "({'name': 'Kang', 'score': 0, 'strategy': None}, {'name': 'P', 'score': 0, 'strategy': None})\n",
      "({'name': 'Kang', 'score': 0, 'strategy': None}, {'name': 'Patschke', 'score': 0, 'strategy': None})\n",
      "({'name': 'Kang', 'score': 0, 'strategy': None}, {'name': 'Popic', 'score': 0, 'strategy': None})\n",
      "({'name': 'Kang', 'score': 0, 'strategy': None}, {'name': 'Villanueva', 'score': 0, 'strategy': None})\n",
      "({'name': 'Madlambayan', 'score': 0, 'strategy': None}, {'name': 'Magallanes', 'score': 0, 'strategy': None})\n",
      "({'name': 'Madlambayan', 'score': 0, 'strategy': None}, {'name': 'Moore', 'score': 0, 'strategy': None})\n",
      "({'name': 'Madlambayan', 'score': 0, 'strategy': None}, {'name': 'P', 'score': 0, 'strategy': None})\n",
      "({'name': 'Madlambayan', 'score': 0, 'strategy': None}, {'name': 'Patschke', 'score': 0, 'strategy': None})\n",
      "({'name': 'Madlambayan', 'score': 0, 'strategy': None}, {'name': 'Popic', 'score': 0, 'strategy': None})\n",
      "({'name': 'Madlambayan', 'score': 0, 'strategy': None}, {'name': 'Villanueva', 'score': 0, 'strategy': None})\n",
      "({'name': 'Magallanes', 'score': 0, 'strategy': None}, {'name': 'Moore', 'score': 0, 'strategy': None})\n",
      "({'name': 'Magallanes', 'score': 0, 'strategy': None}, {'name': 'P', 'score': 0, 'strategy': None})\n",
      "({'name': 'Magallanes', 'score': 0, 'strategy': None}, {'name': 'Patschke', 'score': 0, 'strategy': None})\n",
      "({'name': 'Magallanes', 'score': 0, 'strategy': None}, {'name': 'Popic', 'score': 0, 'strategy': None})\n",
      "({'name': 'Magallanes', 'score': 0, 'strategy': None}, {'name': 'Villanueva', 'score': 0, 'strategy': None})\n",
      "({'name': 'Moore', 'score': 0, 'strategy': None}, {'name': 'P', 'score': 0, 'strategy': None})\n",
      "({'name': 'Moore', 'score': 0, 'strategy': None}, {'name': 'Patschke', 'score': 0, 'strategy': None})\n",
      "({'name': 'Moore', 'score': 0, 'strategy': None}, {'name': 'Popic', 'score': 0, 'strategy': None})\n",
      "({'name': 'Moore', 'score': 0, 'strategy': None}, {'name': 'Villanueva', 'score': 0, 'strategy': None})\n",
      "({'name': 'P', 'score': 0, 'strategy': None}, {'name': 'Patschke', 'score': 0, 'strategy': None})\n",
      "({'name': 'P', 'score': 0, 'strategy': None}, {'name': 'Popic', 'score': 0, 'strategy': None})\n",
      "({'name': 'P', 'score': 0, 'strategy': None}, {'name': 'Villanueva', 'score': 0, 'strategy': None})\n",
      "({'name': 'Patschke', 'score': 0, 'strategy': None}, {'name': 'Popic', 'score': 0, 'strategy': None})\n",
      "({'name': 'Patschke', 'score': 0, 'strategy': None}, {'name': 'Villanueva', 'score': 0, 'strategy': None})\n",
      "({'name': 'Popic', 'score': 0, 'strategy': None}, {'name': 'Villanueva', 'score': 0, 'strategy': None})\n"
     ]
    }
   ],
   "source": [
    "import itertools\n",
    "\n",
    "#pair is a tuple of dicts\n",
    "for pair in itertools.combinations(classmates,2):\n",
    "    print (pair)"
   ]
  },
  {
   "cell_type": "code",
   "execution_count": 17,
   "id": "5e9e6259",
   "metadata": {},
   "outputs": [
    {
     "name": "stdout",
     "output_type": "stream",
     "text": [
      "{'name': 'Aldahnim', 'score': 0, 'strategy': None} {'name': 'Blake', 'score': 0, 'strategy': None}\n",
      "{'name': 'Aldahnim', 'score': 0, 'strategy': None} {'name': 'Dawson', 'score': 0, 'strategy': None}\n",
      "{'name': 'Aldahnim', 'score': 0, 'strategy': None} {'name': 'Hu', 'score': 0, 'strategy': None}\n",
      "{'name': 'Aldahnim', 'score': 0, 'strategy': None} {'name': 'Kang', 'score': 0, 'strategy': None}\n",
      "{'name': 'Aldahnim', 'score': 0, 'strategy': None} {'name': 'Madlambayan', 'score': 0, 'strategy': None}\n",
      "{'name': 'Aldahnim', 'score': 0, 'strategy': None} {'name': 'Magallanes', 'score': 0, 'strategy': None}\n",
      "{'name': 'Aldahnim', 'score': 0, 'strategy': None} {'name': 'Moore', 'score': 0, 'strategy': None}\n",
      "{'name': 'Aldahnim', 'score': 0, 'strategy': None} {'name': 'P', 'score': 0, 'strategy': None}\n",
      "{'name': 'Aldahnim', 'score': 0, 'strategy': None} {'name': 'Patschke', 'score': 0, 'strategy': None}\n",
      "{'name': 'Aldahnim', 'score': 0, 'strategy': None} {'name': 'Popic', 'score': 0, 'strategy': None}\n",
      "{'name': 'Aldahnim', 'score': 0, 'strategy': None} {'name': 'Villanueva', 'score': 0, 'strategy': None}\n",
      "{'name': 'Blake', 'score': 0, 'strategy': None} {'name': 'Dawson', 'score': 0, 'strategy': None}\n",
      "{'name': 'Blake', 'score': 0, 'strategy': None} {'name': 'Hu', 'score': 0, 'strategy': None}\n",
      "{'name': 'Blake', 'score': 0, 'strategy': None} {'name': 'Kang', 'score': 0, 'strategy': None}\n",
      "{'name': 'Blake', 'score': 0, 'strategy': None} {'name': 'Madlambayan', 'score': 0, 'strategy': None}\n",
      "{'name': 'Blake', 'score': 0, 'strategy': None} {'name': 'Magallanes', 'score': 0, 'strategy': None}\n",
      "{'name': 'Blake', 'score': 0, 'strategy': None} {'name': 'Moore', 'score': 0, 'strategy': None}\n",
      "{'name': 'Blake', 'score': 0, 'strategy': None} {'name': 'P', 'score': 0, 'strategy': None}\n",
      "{'name': 'Blake', 'score': 0, 'strategy': None} {'name': 'Patschke', 'score': 0, 'strategy': None}\n",
      "{'name': 'Blake', 'score': 0, 'strategy': None} {'name': 'Popic', 'score': 0, 'strategy': None}\n",
      "{'name': 'Blake', 'score': 0, 'strategy': None} {'name': 'Villanueva', 'score': 0, 'strategy': None}\n",
      "{'name': 'Dawson', 'score': 0, 'strategy': None} {'name': 'Hu', 'score': 0, 'strategy': None}\n",
      "{'name': 'Dawson', 'score': 0, 'strategy': None} {'name': 'Kang', 'score': 0, 'strategy': None}\n",
      "{'name': 'Dawson', 'score': 0, 'strategy': None} {'name': 'Madlambayan', 'score': 0, 'strategy': None}\n",
      "{'name': 'Dawson', 'score': 0, 'strategy': None} {'name': 'Magallanes', 'score': 0, 'strategy': None}\n",
      "{'name': 'Dawson', 'score': 0, 'strategy': None} {'name': 'Moore', 'score': 0, 'strategy': None}\n",
      "{'name': 'Dawson', 'score': 0, 'strategy': None} {'name': 'P', 'score': 0, 'strategy': None}\n",
      "{'name': 'Dawson', 'score': 0, 'strategy': None} {'name': 'Patschke', 'score': 0, 'strategy': None}\n",
      "{'name': 'Dawson', 'score': 0, 'strategy': None} {'name': 'Popic', 'score': 0, 'strategy': None}\n",
      "{'name': 'Dawson', 'score': 0, 'strategy': None} {'name': 'Villanueva', 'score': 0, 'strategy': None}\n",
      "{'name': 'Hu', 'score': 0, 'strategy': None} {'name': 'Kang', 'score': 0, 'strategy': None}\n",
      "{'name': 'Hu', 'score': 0, 'strategy': None} {'name': 'Madlambayan', 'score': 0, 'strategy': None}\n",
      "{'name': 'Hu', 'score': 0, 'strategy': None} {'name': 'Magallanes', 'score': 0, 'strategy': None}\n",
      "{'name': 'Hu', 'score': 0, 'strategy': None} {'name': 'Moore', 'score': 0, 'strategy': None}\n",
      "{'name': 'Hu', 'score': 0, 'strategy': None} {'name': 'P', 'score': 0, 'strategy': None}\n",
      "{'name': 'Hu', 'score': 0, 'strategy': None} {'name': 'Patschke', 'score': 0, 'strategy': None}\n",
      "{'name': 'Hu', 'score': 0, 'strategy': None} {'name': 'Popic', 'score': 0, 'strategy': None}\n",
      "{'name': 'Hu', 'score': 0, 'strategy': None} {'name': 'Villanueva', 'score': 0, 'strategy': None}\n",
      "{'name': 'Kang', 'score': 0, 'strategy': None} {'name': 'Madlambayan', 'score': 0, 'strategy': None}\n",
      "{'name': 'Kang', 'score': 0, 'strategy': None} {'name': 'Magallanes', 'score': 0, 'strategy': None}\n",
      "{'name': 'Kang', 'score': 0, 'strategy': None} {'name': 'Moore', 'score': 0, 'strategy': None}\n",
      "{'name': 'Kang', 'score': 0, 'strategy': None} {'name': 'P', 'score': 0, 'strategy': None}\n",
      "{'name': 'Kang', 'score': 0, 'strategy': None} {'name': 'Patschke', 'score': 0, 'strategy': None}\n",
      "{'name': 'Kang', 'score': 0, 'strategy': None} {'name': 'Popic', 'score': 0, 'strategy': None}\n",
      "{'name': 'Kang', 'score': 0, 'strategy': None} {'name': 'Villanueva', 'score': 0, 'strategy': None}\n",
      "{'name': 'Madlambayan', 'score': 0, 'strategy': None} {'name': 'Magallanes', 'score': 0, 'strategy': None}\n",
      "{'name': 'Madlambayan', 'score': 0, 'strategy': None} {'name': 'Moore', 'score': 0, 'strategy': None}\n",
      "{'name': 'Madlambayan', 'score': 0, 'strategy': None} {'name': 'P', 'score': 0, 'strategy': None}\n",
      "{'name': 'Madlambayan', 'score': 0, 'strategy': None} {'name': 'Patschke', 'score': 0, 'strategy': None}\n",
      "{'name': 'Madlambayan', 'score': 0, 'strategy': None} {'name': 'Popic', 'score': 0, 'strategy': None}\n",
      "{'name': 'Madlambayan', 'score': 0, 'strategy': None} {'name': 'Villanueva', 'score': 0, 'strategy': None}\n",
      "{'name': 'Magallanes', 'score': 0, 'strategy': None} {'name': 'Moore', 'score': 0, 'strategy': None}\n",
      "{'name': 'Magallanes', 'score': 0, 'strategy': None} {'name': 'P', 'score': 0, 'strategy': None}\n",
      "{'name': 'Magallanes', 'score': 0, 'strategy': None} {'name': 'Patschke', 'score': 0, 'strategy': None}\n",
      "{'name': 'Magallanes', 'score': 0, 'strategy': None} {'name': 'Popic', 'score': 0, 'strategy': None}\n",
      "{'name': 'Magallanes', 'score': 0, 'strategy': None} {'name': 'Villanueva', 'score': 0, 'strategy': None}\n",
      "{'name': 'Moore', 'score': 0, 'strategy': None} {'name': 'P', 'score': 0, 'strategy': None}\n",
      "{'name': 'Moore', 'score': 0, 'strategy': None} {'name': 'Patschke', 'score': 0, 'strategy': None}\n",
      "{'name': 'Moore', 'score': 0, 'strategy': None} {'name': 'Popic', 'score': 0, 'strategy': None}\n",
      "{'name': 'Moore', 'score': 0, 'strategy': None} {'name': 'Villanueva', 'score': 0, 'strategy': None}\n",
      "{'name': 'P', 'score': 0, 'strategy': None} {'name': 'Patschke', 'score': 0, 'strategy': None}\n",
      "{'name': 'P', 'score': 0, 'strategy': None} {'name': 'Popic', 'score': 0, 'strategy': None}\n",
      "{'name': 'P', 'score': 0, 'strategy': None} {'name': 'Villanueva', 'score': 0, 'strategy': None}\n",
      "{'name': 'Patschke', 'score': 0, 'strategy': None} {'name': 'Popic', 'score': 0, 'strategy': None}\n",
      "{'name': 'Patschke', 'score': 0, 'strategy': None} {'name': 'Villanueva', 'score': 0, 'strategy': None}\n",
      "{'name': 'Popic', 'score': 0, 'strategy': None} {'name': 'Villanueva', 'score': 0, 'strategy': None}\n"
     ]
    }
   ],
   "source": [
    "import itertools\n",
    "\n",
    "#each dict\n",
    "for player1, player2 in itertools.combinations(classmates,2):\n",
    "    print(player1, player2)"
   ]
  },
  {
   "cell_type": "code",
   "execution_count": 19,
   "id": "c7224e8c",
   "metadata": {},
   "outputs": [],
   "source": [
    "#resetting society\n",
    "\n",
    "classmates = [{'name':n, 'score':0, 'strategy':None} for n in names]\n",
    "\n",
    "#serveral rounds\n",
    "for aRound in range(1000):\n",
    "    \n",
    "    #each round\n",
    "    for player1,player2 in itertools.combinations(classmates,2):\n",
    "        #each choose strategy\n",
    "        player1['strategy']=choice(strategies)\n",
    "        player2['strategy']=choice(strategies)\n",
    "        #result from strategy chosen\n",
    "        result=payoff[player1['strategy'], player2['strategy']]\n",
    "        #update socres\n",
    "        player1['score']+=result[0]\n",
    "        player2['score']+=result[1]"
   ]
  },
  {
   "cell_type": "code",
   "execution_count": 20,
   "id": "c944aa91",
   "metadata": {},
   "outputs": [
    {
     "data": {
      "text/plain": [
       "[{'name': 'Aldahnim', 'score': 4288, 'strategy': 'Lizard'},\n",
       " {'name': 'Blake', 'score': 4351, 'strategy': 'Scissors'},\n",
       " {'name': 'Dawson', 'score': 4363, 'strategy': 'Lizard'},\n",
       " {'name': 'Hu', 'score': 4366, 'strategy': 'Spock'},\n",
       " {'name': 'Kang', 'score': 4431, 'strategy': 'Scissors'},\n",
       " {'name': 'Madlambayan', 'score': 4403, 'strategy': 'Lizard'},\n",
       " {'name': 'Magallanes', 'score': 4478, 'strategy': 'Lizard'},\n",
       " {'name': 'Moore', 'score': 4394, 'strategy': 'Scissors'},\n",
       " {'name': 'P', 'score': 4364, 'strategy': 'Paper'},\n",
       " {'name': 'Patschke', 'score': 4402, 'strategy': 'Scissors'},\n",
       " {'name': 'Popic', 'score': 4403, 'strategy': 'Rock'},\n",
       " {'name': 'Villanueva', 'score': 4488, 'strategy': 'Paper'}]"
      ]
     },
     "execution_count": 20,
     "metadata": {},
     "output_type": "execute_result"
    }
   ],
   "source": [
    "#final situation\n",
    "classmates"
   ]
  },
  {
   "cell_type": "code",
   "execution_count": 21,
   "id": "a8fc517a",
   "metadata": {},
   "outputs": [
    {
     "data": {
      "text/html": [
       "<div>\n",
       "<style scoped>\n",
       "    .dataframe tbody tr th:only-of-type {\n",
       "        vertical-align: middle;\n",
       "    }\n",
       "\n",
       "    .dataframe tbody tr th {\n",
       "        vertical-align: top;\n",
       "    }\n",
       "\n",
       "    .dataframe thead th {\n",
       "        text-align: right;\n",
       "    }\n",
       "</style>\n",
       "<table border=\"1\" class=\"dataframe\">\n",
       "  <thead>\n",
       "    <tr style=\"text-align: right;\">\n",
       "      <th></th>\n",
       "      <th>name</th>\n",
       "      <th>score</th>\n",
       "      <th>strategy</th>\n",
       "    </tr>\n",
       "  </thead>\n",
       "  <tbody>\n",
       "    <tr>\n",
       "      <th>0</th>\n",
       "      <td>Aldahnim</td>\n",
       "      <td>4288</td>\n",
       "      <td>Lizard</td>\n",
       "    </tr>\n",
       "    <tr>\n",
       "      <th>1</th>\n",
       "      <td>Blake</td>\n",
       "      <td>4351</td>\n",
       "      <td>Scissors</td>\n",
       "    </tr>\n",
       "    <tr>\n",
       "      <th>2</th>\n",
       "      <td>Dawson</td>\n",
       "      <td>4363</td>\n",
       "      <td>Lizard</td>\n",
       "    </tr>\n",
       "    <tr>\n",
       "      <th>3</th>\n",
       "      <td>Hu</td>\n",
       "      <td>4366</td>\n",
       "      <td>Spock</td>\n",
       "    </tr>\n",
       "    <tr>\n",
       "      <th>4</th>\n",
       "      <td>Kang</td>\n",
       "      <td>4431</td>\n",
       "      <td>Scissors</td>\n",
       "    </tr>\n",
       "    <tr>\n",
       "      <th>5</th>\n",
       "      <td>Madlambayan</td>\n",
       "      <td>4403</td>\n",
       "      <td>Lizard</td>\n",
       "    </tr>\n",
       "    <tr>\n",
       "      <th>6</th>\n",
       "      <td>Magallanes</td>\n",
       "      <td>4478</td>\n",
       "      <td>Lizard</td>\n",
       "    </tr>\n",
       "    <tr>\n",
       "      <th>7</th>\n",
       "      <td>Moore</td>\n",
       "      <td>4394</td>\n",
       "      <td>Scissors</td>\n",
       "    </tr>\n",
       "    <tr>\n",
       "      <th>8</th>\n",
       "      <td>P</td>\n",
       "      <td>4364</td>\n",
       "      <td>Paper</td>\n",
       "    </tr>\n",
       "    <tr>\n",
       "      <th>9</th>\n",
       "      <td>Patschke</td>\n",
       "      <td>4402</td>\n",
       "      <td>Scissors</td>\n",
       "    </tr>\n",
       "    <tr>\n",
       "      <th>10</th>\n",
       "      <td>Popic</td>\n",
       "      <td>4403</td>\n",
       "      <td>Rock</td>\n",
       "    </tr>\n",
       "    <tr>\n",
       "      <th>11</th>\n",
       "      <td>Villanueva</td>\n",
       "      <td>4488</td>\n",
       "      <td>Paper</td>\n",
       "    </tr>\n",
       "  </tbody>\n",
       "</table>\n",
       "</div>"
      ],
      "text/plain": [
       "           name  score  strategy\n",
       "0      Aldahnim   4288    Lizard\n",
       "1         Blake   4351  Scissors\n",
       "2        Dawson   4363    Lizard\n",
       "3            Hu   4366     Spock\n",
       "4          Kang   4431  Scissors\n",
       "5   Madlambayan   4403    Lizard\n",
       "6    Magallanes   4478    Lizard\n",
       "7         Moore   4394  Scissors\n",
       "8             P   4364     Paper\n",
       "9      Patschke   4402  Scissors\n",
       "10        Popic   4403      Rock\n",
       "11   Villanueva   4488     Paper"
      ]
     },
     "execution_count": 21,
     "metadata": {},
     "output_type": "execute_result"
    }
   ],
   "source": [
    "#as a data frame\n",
    "socialResults=pd.DataFrame(classmates)\n",
    "socialResults"
   ]
  },
  {
   "cell_type": "code",
   "execution_count": 22,
   "id": "857a9824",
   "metadata": {},
   "outputs": [
    {
     "data": {
      "text/html": [
       "<div>\n",
       "<style scoped>\n",
       "    .dataframe tbody tr th:only-of-type {\n",
       "        vertical-align: middle;\n",
       "    }\n",
       "\n",
       "    .dataframe tbody tr th {\n",
       "        vertical-align: top;\n",
       "    }\n",
       "\n",
       "    .dataframe thead th {\n",
       "        text-align: right;\n",
       "    }\n",
       "</style>\n",
       "<table border=\"1\" class=\"dataframe\">\n",
       "  <thead>\n",
       "    <tr style=\"text-align: right;\">\n",
       "      <th></th>\n",
       "      <th>name</th>\n",
       "      <th>score</th>\n",
       "      <th>strategy</th>\n",
       "    </tr>\n",
       "  </thead>\n",
       "  <tbody>\n",
       "    <tr>\n",
       "      <th>11</th>\n",
       "      <td>Villanueva</td>\n",
       "      <td>4488</td>\n",
       "      <td>Paper</td>\n",
       "    </tr>\n",
       "  </tbody>\n",
       "</table>\n",
       "</div>"
      ],
      "text/plain": [
       "          name  score strategy\n",
       "11  Villanueva   4488    Paper"
      ]
     },
     "execution_count": 22,
     "metadata": {},
     "output_type": "execute_result"
    }
   ],
   "source": [
    "winnerScore=socialResults.score.max()\n",
    "\n",
    "#socialoutcome\n",
    "socialResults[socialResults.score==winnerScore]"
   ]
  },
  {
   "cell_type": "code",
   "execution_count": null,
   "id": "31d00105",
   "metadata": {},
   "outputs": [],
   "source": []
  }
 ],
 "metadata": {
  "kernelspec": {
   "display_name": "Python 3 (ipykernel)",
   "language": "python",
   "name": "python3"
  },
  "language_info": {
   "codemirror_mode": {
    "name": "ipython",
    "version": 3
   },
   "file_extension": ".py",
   "mimetype": "text/x-python",
   "name": "python",
   "nbconvert_exporter": "python",
   "pygments_lexer": "ipython3",
   "version": "3.9.16"
  }
 },
 "nbformat": 4,
 "nbformat_minor": 5
}
