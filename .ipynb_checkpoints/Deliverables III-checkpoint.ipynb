{
 "cells": [
  {
   "cell_type": "markdown",
   "id": "9b7e26df",
   "metadata": {},
   "source": [
    "# Optimization Problem"
   ]
  },
  {
   "cell_type": "code",
   "execution_count": 7,
   "id": "91c859c7",
   "metadata": {},
   "outputs": [
    {
     "name": "stdout",
     "output_type": "stream",
     "text": [
      "Welcome to the CBC MILP Solver \n",
      "Version: 2.10.3 \n",
      "Build Date: Dec 15 2019 \n",
      "\n",
      "command line - /Users/wolfy/Documents/anaconda3/envs/PUBPOL/lib/python3.9/site-packages/pulp/solverdir/cbc/osx/64/cbc /var/folders/sv/1bpgx38n2yn14wm9qk7cqmrc0000gn/T/be23a33b22414258a81a4ae3a1be5bbb-pulp.mps max timeMode elapsed branch printingOptions all solution /var/folders/sv/1bpgx38n2yn14wm9qk7cqmrc0000gn/T/be23a33b22414258a81a4ae3a1be5bbb-pulp.sol (default strategy 1)\n",
      "At line 2 NAME          MODEL\n",
      "At line 3 ROWS\n",
      "At line 7 COLUMNS\n",
      "At line 16 RHS\n",
      "At line 19 BOUNDS\n",
      "At line 20 ENDATA\n",
      "Problem MODEL has 2 rows, 3 columns and 5 elements\n",
      "Coin0008I MODEL read with 0 errors\n",
      "Option for timeMode changed from cpu to elapsed\n",
      "Presolve 0 (-2) rows, 0 (-3) columns and 0 (-5) elements\n",
      "Empty problem - 0 rows, 0 columns and 0 elements\n",
      "Optimal - objective value 1140000\n",
      "After Postsolve, objective 1140000, infeasibilities - dual 0 (0), primal 0 (0)\n",
      "Optimal objective 1140000 - 0 iterations time 0.002, Presolve 0.00\n",
      "Option for printingOptions changed from normal to all\n",
      "Total time (CPU seconds):       0.00   (Wallclock seconds):       0.00\n",
      "\n"
     ]
    }
   ],
   "source": [
    "#importing problems into Python\n",
    "from pulp import LpMaximize,LpProblem,LpVariable,LpConstraint, value\n",
    "from pulp import COIN_CMD\n",
    "from pulp import LpConstraintGE as GE\n",
    "from pulp import LpConstraintLE as LE\n",
    "\n",
    "#building a model and identifying variables\n",
    "\n",
    "model = LpProblem(name='airplinemarket-problem', sense=LpMaximize)\n",
    "\n",
    "x = LpVariable(name='San Diego', lowBound=0, cat='Continuous')\n",
    "y = LpVariable(name=\"San Francisco\", lowBound=0, cat=\"Continuous\")\n",
    "z = LpVariable(name=\"Las Vegas\", lowBound=0, cat=\"Continuous\")\n",
    "\n",
    "Rev = 1900*x + 700*y + 1000*z\n",
    "\n",
    "#applying constraints\n",
    "\n",
    "C1 = LpConstraint(name='Flight-Price Constraint',\n",
    "                 e= x+y+z, sense=LE, rhs=600)\n",
    "C2 = LpConstraint(name='Cost Airfare',\n",
    "                 e= 14*y + 40*z, sense=LE, rhs=0)\n",
    "\n",
    "#solving model\n",
    "model += Rev\n",
    "model += C1\n",
    "model += C2\n",
    "\n",
    "#solver = COIN_CMD(msg=False)\n",
    "result = model.solve() #solver"
   ]
  },
  {
   "cell_type": "code",
   "execution_count": 8,
   "id": "9de07116",
   "metadata": {},
   "outputs": [
    {
     "name": "stdout",
     "output_type": "stream",
     "text": [
      "Optimal Result\n",
      "Las_Vegas = 0.0\n",
      "San_Diego = 600.0\n",
      "San_Francisco = 0.0\n"
     ]
    }
   ],
   "source": [
    "print(\"Optimal Result\")\n",
    "for variable in model.variables():\n",
    "    print (variable.name, \"=\", variable.varValue)"
   ]
  },
  {
   "cell_type": "code",
   "execution_count": 9,
   "id": "01deb4d9",
   "metadata": {},
   "outputs": [
    {
     "name": "stdout",
     "output_type": "stream",
     "text": [
      "Total net max profit:\n",
      "1140000.0\n"
     ]
    }
   ],
   "source": [
    "print(\"Total net max profit:\")\n",
    "print (value(model.objective))"
   ]
  },
  {
   "cell_type": "code",
   "execution_count": 10,
   "id": "da181249",
   "metadata": {},
   "outputs": [
    {
     "name": "stdout",
     "output_type": "stream",
     "text": [
      "Slack/Surplus\n",
      "Flight_Price_Constraint:0.0\n",
      "Cost_Airfare:0.0\n"
     ]
    }
   ],
   "source": [
    "print(\"Slack/Surplus\")\n",
    "for name, constraint in model. constraints.items():\n",
    "    print(name + ':' + str(constraint.value()))"
   ]
  },
  {
   "cell_type": "markdown",
   "id": "4aaf7431",
   "metadata": {},
   "source": [
    "# Social Simulation"
   ]
  },
  {
   "cell_type": "code",
   "execution_count": 1,
   "id": "732aaf0b",
   "metadata": {},
   "outputs": [],
   "source": [
    "#setting up strategies variable\n",
    "strategies = ['Rock', 'Paper', 'Scissors','Lizard','Spock']"
   ]
  },
  {
   "cell_type": "code",
   "execution_count": 3,
   "id": "259cb1fe",
   "metadata": {},
   "outputs": [],
   "source": [
    "#applying rules\n",
    "payoff={('Scissors','Paper'):(1,0),\n",
    "        ('Paper','Rock'):(0,0),\n",
    "        ('Rock','Lizard'):(1,0),\n",
    "        ('Spock', 'Scissors'):(1,0),\n",
    "        ('Scissors','Lizard'):(1,0),\n",
    "        ('Lizard', 'Paper'):(1,0),\n",
    "        ('Paper','Spock'):(0,0),\n",
    "        ('Spock','Rock'):(1,0),\n",
    "        ('Rock','Scissors'):(1,0)}"
   ]
  },
  {
   "cell_type": "code",
   "execution_count": null,
   "id": "cd41ad57",
   "metadata": {},
   "outputs": [],
   "source": []
  },
  {
   "cell_type": "code",
   "execution_count": null,
   "id": "8a5e2960",
   "metadata": {},
   "outputs": [],
   "source": []
  },
  {
   "cell_type": "raw",
   "id": "cd8bfe08",
   "metadata": {},
   "source": []
  }
 ],
 "metadata": {
  "kernelspec": {
   "display_name": "Python 3 (ipykernel)",
   "language": "python",
   "name": "python3"
  },
  "language_info": {
   "codemirror_mode": {
    "name": "ipython",
    "version": 3
   },
   "file_extension": ".py",
   "mimetype": "text/x-python",
   "name": "python",
   "nbconvert_exporter": "python",
   "pygments_lexer": "ipython3",
   "version": "3.9.16"
  }
 },
 "nbformat": 4,
 "nbformat_minor": 5
}
