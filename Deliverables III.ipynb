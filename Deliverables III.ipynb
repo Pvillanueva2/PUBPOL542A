{
 "cells": [
  {
   "cell_type": "markdown",
   "id": "9b7e26df",
   "metadata": {},
   "source": [
    "# Optimization Problem"
   ]
  },
  {
   "cell_type": "code",
   "execution_count": 1,
   "id": "91c859c7",
   "metadata": {},
   "outputs": [
    {
     "name": "stdout",
     "output_type": "stream",
     "text": [
      "Welcome to the CBC MILP Solver \n",
      "Version: 2.10.3 \n",
      "Build Date: Dec 15 2019 \n",
      "\n",
      "command line - /Users/wolfy/Documents/anaconda3/envs/PUBPOL/lib/python3.9/site-packages/pulp/solverdir/cbc/osx/64/cbc /var/folders/sv/1bpgx38n2yn14wm9qk7cqmrc0000gn/T/b13dade30b2d4702bdaa22fdc9511903-pulp.mps max timeMode elapsed branch printingOptions all solution /var/folders/sv/1bpgx38n2yn14wm9qk7cqmrc0000gn/T/b13dade30b2d4702bdaa22fdc9511903-pulp.sol (default strategy 1)\n",
      "At line 2 NAME          MODEL\n",
      "At line 3 ROWS\n",
      "At line 7 COLUMNS\n",
      "At line 16 RHS\n",
      "At line 19 BOUNDS\n",
      "At line 20 ENDATA\n",
      "Problem MODEL has 2 rows, 3 columns and 5 elements\n",
      "Coin0008I MODEL read with 0 errors\n",
      "Option for timeMode changed from cpu to elapsed\n",
      "Presolve 0 (-2) rows, 0 (-3) columns and 0 (-5) elements\n",
      "Empty problem - 0 rows, 0 columns and 0 elements\n",
      "Optimal - objective value 1140000\n",
      "After Postsolve, objective 1140000, infeasibilities - dual 0 (0), primal 0 (0)\n",
      "Optimal objective 1140000 - 0 iterations time 0.002, Presolve 0.00\n",
      "Option for printingOptions changed from normal to all\n",
      "Total time (CPU seconds):       0.00   (Wallclock seconds):       0.01\n",
      "\n"
     ]
    }
   ],
   "source": [
    "#importing problems into Python\n",
    "from pulp import LpMaximize,LpProblem,LpVariable,LpConstraint, value\n",
    "from pulp import COIN_CMD\n",
    "from pulp import LpConstraintGE as GE\n",
    "from pulp import LpConstraintLE as LE\n",
    "\n",
    "#building a model and identifying variables\n",
    "\n",
    "model = LpProblem(name='airplinemarket-problem', sense=LpMaximize)\n",
    "\n",
    "x = LpVariable(name='San Diego', lowBound=0, cat='Continuous')\n",
    "y = LpVariable(name=\"San Francisco\", lowBound=0, cat=\"Continuous\")\n",
    "z = LpVariable(name=\"Las Vegas\", lowBound=0, cat=\"Continuous\")\n",
    "\n",
    "Rev = 1900*x + 700*y + 1000*z\n",
    "\n",
    "#applying constraints\n",
    "\n",
    "C1 = LpConstraint(name='Flight-Price Constraint',\n",
    "                 e= x+y+z, sense=LE, rhs=600)\n",
    "C2 = LpConstraint(name='Cost Airfare',\n",
    "                 e= 14*y + 40*z, sense=LE, rhs=0)\n",
    "\n",
    "#solving model\n",
    "model += Rev\n",
    "model += C1\n",
    "model += C2\n",
    "\n",
    "#solver = COIN_CMD(msg=False)\n",
    "result = model.solve() #solver"
   ]
  },
  {
   "cell_type": "code",
   "execution_count": 2,
   "id": "9de07116",
   "metadata": {},
   "outputs": [
    {
     "name": "stdout",
     "output_type": "stream",
     "text": [
      "Optimal Result\n",
      "Las_Vegas = 0.0\n",
      "San_Diego = 600.0\n",
      "San_Francisco = 0.0\n"
     ]
    }
   ],
   "source": [
    "print(\"Optimal Result\")\n",
    "for variable in model.variables():\n",
    "    print (variable.name, \"=\", variable.varValue)"
   ]
  },
  {
   "cell_type": "code",
   "execution_count": 3,
   "id": "01deb4d9",
   "metadata": {},
   "outputs": [
    {
     "name": "stdout",
     "output_type": "stream",
     "text": [
      "Total net max profit:\n",
      "1140000.0\n"
     ]
    }
   ],
   "source": [
    "print(\"Total net max profit:\")\n",
    "print (value(model.objective))"
   ]
  },
  {
   "cell_type": "code",
   "execution_count": 4,
   "id": "da181249",
   "metadata": {},
   "outputs": [
    {
     "name": "stdout",
     "output_type": "stream",
     "text": [
      "Slack/Surplus\n",
      "Flight_Price_Constraint:0.0\n",
      "Cost_Airfare:0.0\n"
     ]
    }
   ],
   "source": [
    "print(\"Slack/Surplus\")\n",
    "for name, constraint in model. constraints.items():\n",
    "    print(name + ':' + str(constraint.value()))"
   ]
  },
  {
   "cell_type": "markdown",
   "id": "4aaf7431",
   "metadata": {},
   "source": [
    "# Social Simulation"
   ]
  },
  {
   "cell_type": "code",
   "execution_count": 5,
   "id": "732aaf0b",
   "metadata": {},
   "outputs": [],
   "source": [
    "#setting up strategies variable\n",
    "strategies = ['Rock', 'Paper', 'Scissors','Lizard','Spock']"
   ]
  },
  {
   "cell_type": "code",
   "execution_count": 6,
   "id": "84c55546",
   "metadata": {},
   "outputs": [],
   "source": [
    "#applying rules\n",
    "payoff={('Scissors','Paper'):(1,0),\n",
    "        ('Paper', 'Scissors'):(0,1),\n",
    "        ('Paper','Rock'):(1,0),\n",
    "        ('Rock', 'Paper'):(0,1),\n",
    "        ('Rock','Lizard'):(1,0),\n",
    "        ('Lizard', 'Rock'):(0,1),\n",
    "        ('Spock', 'Scissors'):(1,0),\n",
    "        ('Scissors', 'Spock'):(0,1),\n",
    "        ('Scissors','Lizard'):(1,0),\n",
    "        ('Lizard', 'Scissors'):(0,1),\n",
    "        ('Lizard', 'Paper'):(1,0),\n",
    "        ('Paper', 'Lizard'):(0,1),\n",
    "        ('Paper','Spock'):(1,0),\n",
    "        ('Spock', 'Paper'):(0,1),\n",
    "        ('Spock','Rock'):(1,0),\n",
    "        ('Rock', 'Spock'):(0,1),\n",
    "        ('Rock','Scissors'):(1,0),\n",
    "        ('Scissors', 'Rock'):(0,1),\n",
    "        ('Scissors', 'Scissors'):(0,0),\n",
    "        ('Paper', 'Paper'):(0,0),\n",
    "        ('Rock', 'Rock',):(0,0),\n",
    "        ('Lizard', 'Lizard'):(0,0),\n",
    "        ('Spock', 'Spock'):(0,0),\n",
    "        ('Lizard', 'Spock'):(1,0),\n",
    "        ('Spock', 'Lizard'):(0,1)}"
   ]
  },
  {
   "cell_type": "code",
   "execution_count": 7,
   "id": "7ca80b52",
   "metadata": {},
   "outputs": [
    {
     "data": {
      "text/plain": [
       "'Spock'"
      ]
     },
     "execution_count": 7,
     "metadata": {},
     "output_type": "execute_result"
    }
   ],
   "source": [
    "from random import choice\n",
    "\n",
    "#simples: choose randomly\n",
    "choice(strategies)"
   ]
  },
  {
   "cell_type": "code",
   "execution_count": 8,
   "id": "f1667eb0",
   "metadata": {},
   "outputs": [],
   "source": [
    "#setting up players\n",
    "Players = [{'name':'Magallanes', 'score':0, 'strategy':None},\n",
    "           {'name':'Villanueva', 'score':0, 'strategy':None}]"
   ]
  },
  {
   "cell_type": "code",
   "execution_count": 9,
   "id": "b34da27b",
   "metadata": {},
   "outputs": [],
   "source": [
    "#agent makes a choice\n",
    "Players[0]['strategy']=choice(strategies)\n",
    "Players[1]['strategy']=choice(strategies)"
   ]
  },
  {
   "cell_type": "code",
   "execution_count": 10,
   "id": "aca08c0e",
   "metadata": {},
   "outputs": [],
   "source": [
    "#payoff\n",
    "\n",
    "result=payoff[Players[0]['strategy'], Players[1]['strategy']]"
   ]
  },
  {
   "cell_type": "code",
   "execution_count": 11,
   "id": "35643ec2",
   "metadata": {},
   "outputs": [],
   "source": [
    "#applying scores on decisions made\n",
    "Players[0]['score']+=result[0]\n",
    "Players[1]['score']+=result[1]"
   ]
  },
  {
   "cell_type": "code",
   "execution_count": 12,
   "id": "ede59c43",
   "metadata": {},
   "outputs": [
    {
     "data": {
      "text/html": [
       "<div>\n",
       "<style scoped>\n",
       "    .dataframe tbody tr th:only-of-type {\n",
       "        vertical-align: middle;\n",
       "    }\n",
       "\n",
       "    .dataframe tbody tr th {\n",
       "        vertical-align: top;\n",
       "    }\n",
       "\n",
       "    .dataframe thead th {\n",
       "        text-align: right;\n",
       "    }\n",
       "</style>\n",
       "<table border=\"1\" class=\"dataframe\">\n",
       "  <thead>\n",
       "    <tr style=\"text-align: right;\">\n",
       "      <th></th>\n",
       "      <th>name</th>\n",
       "      <th>score</th>\n",
       "      <th>strategy</th>\n",
       "    </tr>\n",
       "  </thead>\n",
       "  <tbody>\n",
       "    <tr>\n",
       "      <th>0</th>\n",
       "      <td>Magallanes</td>\n",
       "      <td>1</td>\n",
       "      <td>Rock</td>\n",
       "    </tr>\n",
       "    <tr>\n",
       "      <th>1</th>\n",
       "      <td>Villanueva</td>\n",
       "      <td>0</td>\n",
       "      <td>Scissors</td>\n",
       "    </tr>\n",
       "  </tbody>\n",
       "</table>\n",
       "</div>"
      ],
      "text/plain": [
       "         name  score  strategy\n",
       "0  Magallanes      1      Rock\n",
       "1  Villanueva      0  Scissors"
      ]
     },
     "execution_count": 12,
     "metadata": {},
     "output_type": "execute_result"
    }
   ],
   "source": [
    "#importing pandas to use function for social outcome\n",
    "\n",
    "import pandas as pd\n",
    "\n",
    "socialResults=pd.DataFrame((Players[0], Players[1]))\n",
    "socialResults"
   ]
  },
  {
   "cell_type": "raw",
   "id": "3483ea5b",
   "metadata": {},
   "source": [
    "winnerScore = socialResults.score.max()\n",
    "\n",
    "#social outcome\n",
    "socialResults[socialResults.score===winnerScore]"
   ]
  },
  {
   "cell_type": "code",
   "execution_count": 13,
   "id": "629bab3a",
   "metadata": {},
   "outputs": [],
   "source": [
    "names = ['Aldahnim', 'Blake', 'Dawson', 'Hu', 'Kang', 'Madlambayan','Magallanes', 'Moore', 'P', 'Patschke', 'Popic','Villanueva']"
   ]
  },
  {
   "cell_type": "code",
   "execution_count": 14,
   "id": "9c05a86e",
   "metadata": {},
   "outputs": [],
   "source": [
    "#setting up players\n",
    "classmates = [{'name':n, 'score':0, 'strategy':None} for n in names]"
   ]
  },
  {
   "cell_type": "code",
   "execution_count": 15,
   "id": "bd6ba4bf",
   "metadata": {},
   "outputs": [
    {
     "data": {
      "text/plain": [
       "[{'name': 'Aldahnim', 'score': 0, 'strategy': None},\n",
       " {'name': 'Blake', 'score': 0, 'strategy': None},\n",
       " {'name': 'Dawson', 'score': 0, 'strategy': None},\n",
       " {'name': 'Hu', 'score': 0, 'strategy': None},\n",
       " {'name': 'Kang', 'score': 0, 'strategy': None},\n",
       " {'name': 'Madlambayan', 'score': 0, 'strategy': None},\n",
       " {'name': 'Magallanes', 'score': 0, 'strategy': None},\n",
       " {'name': 'Moore', 'score': 0, 'strategy': None},\n",
       " {'name': 'P', 'score': 0, 'strategy': None},\n",
       " {'name': 'Patschke', 'score': 0, 'strategy': None},\n",
       " {'name': 'Popic', 'score': 0, 'strategy': None},\n",
       " {'name': 'Villanueva', 'score': 0, 'strategy': None}]"
      ]
     },
     "execution_count": 15,
     "metadata": {},
     "output_type": "execute_result"
    }
   ],
   "source": [
    "classmates"
   ]
  },
  {
   "cell_type": "code",
   "execution_count": 16,
   "id": "fde27f11",
   "metadata": {},
   "outputs": [
    {
     "name": "stdout",
     "output_type": "stream",
     "text": [
      "({'name': 'Aldahnim', 'score': 0, 'strategy': None}, {'name': 'Blake', 'score': 0, 'strategy': None})\n",
      "({'name': 'Aldahnim', 'score': 0, 'strategy': None}, {'name': 'Dawson', 'score': 0, 'strategy': None})\n",
      "({'name': 'Aldahnim', 'score': 0, 'strategy': None}, {'name': 'Hu', 'score': 0, 'strategy': None})\n",
      "({'name': 'Aldahnim', 'score': 0, 'strategy': None}, {'name': 'Kang', 'score': 0, 'strategy': None})\n",
      "({'name': 'Aldahnim', 'score': 0, 'strategy': None}, {'name': 'Madlambayan', 'score': 0, 'strategy': None})\n",
      "({'name': 'Aldahnim', 'score': 0, 'strategy': None}, {'name': 'Magallanes', 'score': 0, 'strategy': None})\n",
      "({'name': 'Aldahnim', 'score': 0, 'strategy': None}, {'name': 'Moore', 'score': 0, 'strategy': None})\n",
      "({'name': 'Aldahnim', 'score': 0, 'strategy': None}, {'name': 'P', 'score': 0, 'strategy': None})\n",
      "({'name': 'Aldahnim', 'score': 0, 'strategy': None}, {'name': 'Patschke', 'score': 0, 'strategy': None})\n",
      "({'name': 'Aldahnim', 'score': 0, 'strategy': None}, {'name': 'Popic', 'score': 0, 'strategy': None})\n",
      "({'name': 'Aldahnim', 'score': 0, 'strategy': None}, {'name': 'Villanueva', 'score': 0, 'strategy': None})\n",
      "({'name': 'Blake', 'score': 0, 'strategy': None}, {'name': 'Dawson', 'score': 0, 'strategy': None})\n",
      "({'name': 'Blake', 'score': 0, 'strategy': None}, {'name': 'Hu', 'score': 0, 'strategy': None})\n",
      "({'name': 'Blake', 'score': 0, 'strategy': None}, {'name': 'Kang', 'score': 0, 'strategy': None})\n",
      "({'name': 'Blake', 'score': 0, 'strategy': None}, {'name': 'Madlambayan', 'score': 0, 'strategy': None})\n",
      "({'name': 'Blake', 'score': 0, 'strategy': None}, {'name': 'Magallanes', 'score': 0, 'strategy': None})\n",
      "({'name': 'Blake', 'score': 0, 'strategy': None}, {'name': 'Moore', 'score': 0, 'strategy': None})\n",
      "({'name': 'Blake', 'score': 0, 'strategy': None}, {'name': 'P', 'score': 0, 'strategy': None})\n",
      "({'name': 'Blake', 'score': 0, 'strategy': None}, {'name': 'Patschke', 'score': 0, 'strategy': None})\n",
      "({'name': 'Blake', 'score': 0, 'strategy': None}, {'name': 'Popic', 'score': 0, 'strategy': None})\n",
      "({'name': 'Blake', 'score': 0, 'strategy': None}, {'name': 'Villanueva', 'score': 0, 'strategy': None})\n",
      "({'name': 'Dawson', 'score': 0, 'strategy': None}, {'name': 'Hu', 'score': 0, 'strategy': None})\n",
      "({'name': 'Dawson', 'score': 0, 'strategy': None}, {'name': 'Kang', 'score': 0, 'strategy': None})\n",
      "({'name': 'Dawson', 'score': 0, 'strategy': None}, {'name': 'Madlambayan', 'score': 0, 'strategy': None})\n",
      "({'name': 'Dawson', 'score': 0, 'strategy': None}, {'name': 'Magallanes', 'score': 0, 'strategy': None})\n",
      "({'name': 'Dawson', 'score': 0, 'strategy': None}, {'name': 'Moore', 'score': 0, 'strategy': None})\n",
      "({'name': 'Dawson', 'score': 0, 'strategy': None}, {'name': 'P', 'score': 0, 'strategy': None})\n",
      "({'name': 'Dawson', 'score': 0, 'strategy': None}, {'name': 'Patschke', 'score': 0, 'strategy': None})\n",
      "({'name': 'Dawson', 'score': 0, 'strategy': None}, {'name': 'Popic', 'score': 0, 'strategy': None})\n",
      "({'name': 'Dawson', 'score': 0, 'strategy': None}, {'name': 'Villanueva', 'score': 0, 'strategy': None})\n",
      "({'name': 'Hu', 'score': 0, 'strategy': None}, {'name': 'Kang', 'score': 0, 'strategy': None})\n",
      "({'name': 'Hu', 'score': 0, 'strategy': None}, {'name': 'Madlambayan', 'score': 0, 'strategy': None})\n",
      "({'name': 'Hu', 'score': 0, 'strategy': None}, {'name': 'Magallanes', 'score': 0, 'strategy': None})\n",
      "({'name': 'Hu', 'score': 0, 'strategy': None}, {'name': 'Moore', 'score': 0, 'strategy': None})\n",
      "({'name': 'Hu', 'score': 0, 'strategy': None}, {'name': 'P', 'score': 0, 'strategy': None})\n",
      "({'name': 'Hu', 'score': 0, 'strategy': None}, {'name': 'Patschke', 'score': 0, 'strategy': None})\n",
      "({'name': 'Hu', 'score': 0, 'strategy': None}, {'name': 'Popic', 'score': 0, 'strategy': None})\n",
      "({'name': 'Hu', 'score': 0, 'strategy': None}, {'name': 'Villanueva', 'score': 0, 'strategy': None})\n",
      "({'name': 'Kang', 'score': 0, 'strategy': None}, {'name': 'Madlambayan', 'score': 0, 'strategy': None})\n",
      "({'name': 'Kang', 'score': 0, 'strategy': None}, {'name': 'Magallanes', 'score': 0, 'strategy': None})\n",
      "({'name': 'Kang', 'score': 0, 'strategy': None}, {'name': 'Moore', 'score': 0, 'strategy': None})\n",
      "({'name': 'Kang', 'score': 0, 'strategy': None}, {'name': 'P', 'score': 0, 'strategy': None})\n",
      "({'name': 'Kang', 'score': 0, 'strategy': None}, {'name': 'Patschke', 'score': 0, 'strategy': None})\n",
      "({'name': 'Kang', 'score': 0, 'strategy': None}, {'name': 'Popic', 'score': 0, 'strategy': None})\n",
      "({'name': 'Kang', 'score': 0, 'strategy': None}, {'name': 'Villanueva', 'score': 0, 'strategy': None})\n",
      "({'name': 'Madlambayan', 'score': 0, 'strategy': None}, {'name': 'Magallanes', 'score': 0, 'strategy': None})\n",
      "({'name': 'Madlambayan', 'score': 0, 'strategy': None}, {'name': 'Moore', 'score': 0, 'strategy': None})\n",
      "({'name': 'Madlambayan', 'score': 0, 'strategy': None}, {'name': 'P', 'score': 0, 'strategy': None})\n",
      "({'name': 'Madlambayan', 'score': 0, 'strategy': None}, {'name': 'Patschke', 'score': 0, 'strategy': None})\n",
      "({'name': 'Madlambayan', 'score': 0, 'strategy': None}, {'name': 'Popic', 'score': 0, 'strategy': None})\n",
      "({'name': 'Madlambayan', 'score': 0, 'strategy': None}, {'name': 'Villanueva', 'score': 0, 'strategy': None})\n",
      "({'name': 'Magallanes', 'score': 0, 'strategy': None}, {'name': 'Moore', 'score': 0, 'strategy': None})\n",
      "({'name': 'Magallanes', 'score': 0, 'strategy': None}, {'name': 'P', 'score': 0, 'strategy': None})\n",
      "({'name': 'Magallanes', 'score': 0, 'strategy': None}, {'name': 'Patschke', 'score': 0, 'strategy': None})\n",
      "({'name': 'Magallanes', 'score': 0, 'strategy': None}, {'name': 'Popic', 'score': 0, 'strategy': None})\n",
      "({'name': 'Magallanes', 'score': 0, 'strategy': None}, {'name': 'Villanueva', 'score': 0, 'strategy': None})\n",
      "({'name': 'Moore', 'score': 0, 'strategy': None}, {'name': 'P', 'score': 0, 'strategy': None})\n",
      "({'name': 'Moore', 'score': 0, 'strategy': None}, {'name': 'Patschke', 'score': 0, 'strategy': None})\n",
      "({'name': 'Moore', 'score': 0, 'strategy': None}, {'name': 'Popic', 'score': 0, 'strategy': None})\n",
      "({'name': 'Moore', 'score': 0, 'strategy': None}, {'name': 'Villanueva', 'score': 0, 'strategy': None})\n",
      "({'name': 'P', 'score': 0, 'strategy': None}, {'name': 'Patschke', 'score': 0, 'strategy': None})\n",
      "({'name': 'P', 'score': 0, 'strategy': None}, {'name': 'Popic', 'score': 0, 'strategy': None})\n",
      "({'name': 'P', 'score': 0, 'strategy': None}, {'name': 'Villanueva', 'score': 0, 'strategy': None})\n",
      "({'name': 'Patschke', 'score': 0, 'strategy': None}, {'name': 'Popic', 'score': 0, 'strategy': None})\n",
      "({'name': 'Patschke', 'score': 0, 'strategy': None}, {'name': 'Villanueva', 'score': 0, 'strategy': None})\n",
      "({'name': 'Popic', 'score': 0, 'strategy': None}, {'name': 'Villanueva', 'score': 0, 'strategy': None})\n"
     ]
    }
   ],
   "source": [
    "import itertools\n",
    "\n",
    "#pair is a tuple of dicts\n",
    "for pair in itertools.combinations(classmates,2):\n",
    "    print (pair)"
   ]
  },
  {
   "cell_type": "code",
   "execution_count": 17,
   "id": "ba41fb96",
   "metadata": {},
   "outputs": [
    {
     "name": "stdout",
     "output_type": "stream",
     "text": [
      "{'name': 'Aldahnim', 'score': 0, 'strategy': None} {'name': 'Blake', 'score': 0, 'strategy': None}\n",
      "{'name': 'Aldahnim', 'score': 0, 'strategy': None} {'name': 'Dawson', 'score': 0, 'strategy': None}\n",
      "{'name': 'Aldahnim', 'score': 0, 'strategy': None} {'name': 'Hu', 'score': 0, 'strategy': None}\n",
      "{'name': 'Aldahnim', 'score': 0, 'strategy': None} {'name': 'Kang', 'score': 0, 'strategy': None}\n",
      "{'name': 'Aldahnim', 'score': 0, 'strategy': None} {'name': 'Madlambayan', 'score': 0, 'strategy': None}\n",
      "{'name': 'Aldahnim', 'score': 0, 'strategy': None} {'name': 'Magallanes', 'score': 0, 'strategy': None}\n",
      "{'name': 'Aldahnim', 'score': 0, 'strategy': None} {'name': 'Moore', 'score': 0, 'strategy': None}\n",
      "{'name': 'Aldahnim', 'score': 0, 'strategy': None} {'name': 'P', 'score': 0, 'strategy': None}\n",
      "{'name': 'Aldahnim', 'score': 0, 'strategy': None} {'name': 'Patschke', 'score': 0, 'strategy': None}\n",
      "{'name': 'Aldahnim', 'score': 0, 'strategy': None} {'name': 'Popic', 'score': 0, 'strategy': None}\n",
      "{'name': 'Aldahnim', 'score': 0, 'strategy': None} {'name': 'Villanueva', 'score': 0, 'strategy': None}\n",
      "{'name': 'Blake', 'score': 0, 'strategy': None} {'name': 'Dawson', 'score': 0, 'strategy': None}\n",
      "{'name': 'Blake', 'score': 0, 'strategy': None} {'name': 'Hu', 'score': 0, 'strategy': None}\n",
      "{'name': 'Blake', 'score': 0, 'strategy': None} {'name': 'Kang', 'score': 0, 'strategy': None}\n",
      "{'name': 'Blake', 'score': 0, 'strategy': None} {'name': 'Madlambayan', 'score': 0, 'strategy': None}\n",
      "{'name': 'Blake', 'score': 0, 'strategy': None} {'name': 'Magallanes', 'score': 0, 'strategy': None}\n",
      "{'name': 'Blake', 'score': 0, 'strategy': None} {'name': 'Moore', 'score': 0, 'strategy': None}\n",
      "{'name': 'Blake', 'score': 0, 'strategy': None} {'name': 'P', 'score': 0, 'strategy': None}\n",
      "{'name': 'Blake', 'score': 0, 'strategy': None} {'name': 'Patschke', 'score': 0, 'strategy': None}\n",
      "{'name': 'Blake', 'score': 0, 'strategy': None} {'name': 'Popic', 'score': 0, 'strategy': None}\n",
      "{'name': 'Blake', 'score': 0, 'strategy': None} {'name': 'Villanueva', 'score': 0, 'strategy': None}\n",
      "{'name': 'Dawson', 'score': 0, 'strategy': None} {'name': 'Hu', 'score': 0, 'strategy': None}\n",
      "{'name': 'Dawson', 'score': 0, 'strategy': None} {'name': 'Kang', 'score': 0, 'strategy': None}\n",
      "{'name': 'Dawson', 'score': 0, 'strategy': None} {'name': 'Madlambayan', 'score': 0, 'strategy': None}\n",
      "{'name': 'Dawson', 'score': 0, 'strategy': None} {'name': 'Magallanes', 'score': 0, 'strategy': None}\n",
      "{'name': 'Dawson', 'score': 0, 'strategy': None} {'name': 'Moore', 'score': 0, 'strategy': None}\n",
      "{'name': 'Dawson', 'score': 0, 'strategy': None} {'name': 'P', 'score': 0, 'strategy': None}\n",
      "{'name': 'Dawson', 'score': 0, 'strategy': None} {'name': 'Patschke', 'score': 0, 'strategy': None}\n",
      "{'name': 'Dawson', 'score': 0, 'strategy': None} {'name': 'Popic', 'score': 0, 'strategy': None}\n",
      "{'name': 'Dawson', 'score': 0, 'strategy': None} {'name': 'Villanueva', 'score': 0, 'strategy': None}\n",
      "{'name': 'Hu', 'score': 0, 'strategy': None} {'name': 'Kang', 'score': 0, 'strategy': None}\n",
      "{'name': 'Hu', 'score': 0, 'strategy': None} {'name': 'Madlambayan', 'score': 0, 'strategy': None}\n",
      "{'name': 'Hu', 'score': 0, 'strategy': None} {'name': 'Magallanes', 'score': 0, 'strategy': None}\n",
      "{'name': 'Hu', 'score': 0, 'strategy': None} {'name': 'Moore', 'score': 0, 'strategy': None}\n",
      "{'name': 'Hu', 'score': 0, 'strategy': None} {'name': 'P', 'score': 0, 'strategy': None}\n",
      "{'name': 'Hu', 'score': 0, 'strategy': None} {'name': 'Patschke', 'score': 0, 'strategy': None}\n",
      "{'name': 'Hu', 'score': 0, 'strategy': None} {'name': 'Popic', 'score': 0, 'strategy': None}\n",
      "{'name': 'Hu', 'score': 0, 'strategy': None} {'name': 'Villanueva', 'score': 0, 'strategy': None}\n",
      "{'name': 'Kang', 'score': 0, 'strategy': None} {'name': 'Madlambayan', 'score': 0, 'strategy': None}\n",
      "{'name': 'Kang', 'score': 0, 'strategy': None} {'name': 'Magallanes', 'score': 0, 'strategy': None}\n",
      "{'name': 'Kang', 'score': 0, 'strategy': None} {'name': 'Moore', 'score': 0, 'strategy': None}\n",
      "{'name': 'Kang', 'score': 0, 'strategy': None} {'name': 'P', 'score': 0, 'strategy': None}\n",
      "{'name': 'Kang', 'score': 0, 'strategy': None} {'name': 'Patschke', 'score': 0, 'strategy': None}\n",
      "{'name': 'Kang', 'score': 0, 'strategy': None} {'name': 'Popic', 'score': 0, 'strategy': None}\n",
      "{'name': 'Kang', 'score': 0, 'strategy': None} {'name': 'Villanueva', 'score': 0, 'strategy': None}\n",
      "{'name': 'Madlambayan', 'score': 0, 'strategy': None} {'name': 'Magallanes', 'score': 0, 'strategy': None}\n",
      "{'name': 'Madlambayan', 'score': 0, 'strategy': None} {'name': 'Moore', 'score': 0, 'strategy': None}\n",
      "{'name': 'Madlambayan', 'score': 0, 'strategy': None} {'name': 'P', 'score': 0, 'strategy': None}\n",
      "{'name': 'Madlambayan', 'score': 0, 'strategy': None} {'name': 'Patschke', 'score': 0, 'strategy': None}\n",
      "{'name': 'Madlambayan', 'score': 0, 'strategy': None} {'name': 'Popic', 'score': 0, 'strategy': None}\n",
      "{'name': 'Madlambayan', 'score': 0, 'strategy': None} {'name': 'Villanueva', 'score': 0, 'strategy': None}\n",
      "{'name': 'Magallanes', 'score': 0, 'strategy': None} {'name': 'Moore', 'score': 0, 'strategy': None}\n",
      "{'name': 'Magallanes', 'score': 0, 'strategy': None} {'name': 'P', 'score': 0, 'strategy': None}\n",
      "{'name': 'Magallanes', 'score': 0, 'strategy': None} {'name': 'Patschke', 'score': 0, 'strategy': None}\n",
      "{'name': 'Magallanes', 'score': 0, 'strategy': None} {'name': 'Popic', 'score': 0, 'strategy': None}\n",
      "{'name': 'Magallanes', 'score': 0, 'strategy': None} {'name': 'Villanueva', 'score': 0, 'strategy': None}\n",
      "{'name': 'Moore', 'score': 0, 'strategy': None} {'name': 'P', 'score': 0, 'strategy': None}\n",
      "{'name': 'Moore', 'score': 0, 'strategy': None} {'name': 'Patschke', 'score': 0, 'strategy': None}\n",
      "{'name': 'Moore', 'score': 0, 'strategy': None} {'name': 'Popic', 'score': 0, 'strategy': None}\n",
      "{'name': 'Moore', 'score': 0, 'strategy': None} {'name': 'Villanueva', 'score': 0, 'strategy': None}\n",
      "{'name': 'P', 'score': 0, 'strategy': None} {'name': 'Patschke', 'score': 0, 'strategy': None}\n",
      "{'name': 'P', 'score': 0, 'strategy': None} {'name': 'Popic', 'score': 0, 'strategy': None}\n",
      "{'name': 'P', 'score': 0, 'strategy': None} {'name': 'Villanueva', 'score': 0, 'strategy': None}\n",
      "{'name': 'Patschke', 'score': 0, 'strategy': None} {'name': 'Popic', 'score': 0, 'strategy': None}\n",
      "{'name': 'Patschke', 'score': 0, 'strategy': None} {'name': 'Villanueva', 'score': 0, 'strategy': None}\n",
      "{'name': 'Popic', 'score': 0, 'strategy': None} {'name': 'Villanueva', 'score': 0, 'strategy': None}\n"
     ]
    }
   ],
   "source": [
    "import itertools\n",
    "\n",
    "#each dict\n",
    "for player1, player2 in itertools.combinations(classmates,2):\n",
    "    print(player1, player2)"
   ]
  },
  {
   "cell_type": "code",
   "execution_count": 18,
   "id": "9e084a22",
   "metadata": {},
   "outputs": [
    {
     "ename": "NameError",
     "evalue": "name 'society' is not defined",
     "output_type": "error",
     "traceback": [
      "\u001b[0;31m---------------------------------------------------------------------------\u001b[0m",
      "\u001b[0;31mNameError\u001b[0m                                 Traceback (most recent call last)",
      "Cell \u001b[0;32mIn[18], line 9\u001b[0m\n\u001b[1;32m      5\u001b[0m \u001b[38;5;66;03m#serveral rounds\u001b[39;00m\n\u001b[1;32m      6\u001b[0m \u001b[38;5;28;01mfor\u001b[39;00m aRound \u001b[38;5;129;01min\u001b[39;00m \u001b[38;5;28mrange\u001b[39m(\u001b[38;5;241m1000\u001b[39m):\n\u001b[1;32m      7\u001b[0m     \n\u001b[1;32m      8\u001b[0m     \u001b[38;5;66;03m#each round\u001b[39;00m\n\u001b[0;32m----> 9\u001b[0m     \u001b[38;5;28;01mfor\u001b[39;00m player1,player2 \u001b[38;5;129;01min\u001b[39;00m itertools\u001b[38;5;241m.\u001b[39mcombinations(\u001b[43msociety\u001b[49m,\u001b[38;5;241m2\u001b[39m):\n\u001b[1;32m     10\u001b[0m         \u001b[38;5;66;03m#each choose strategy\u001b[39;00m\n\u001b[1;32m     11\u001b[0m         player1[\u001b[38;5;124m'\u001b[39m\u001b[38;5;124mstrategy\u001b[39m\u001b[38;5;124m'\u001b[39m]\u001b[38;5;241m=\u001b[39mchoice(strategies)\n\u001b[1;32m     12\u001b[0m         player2[\u001b[38;5;124m'\u001b[39m\u001b[38;5;124mstrategy\u001b[39m\u001b[38;5;124m'\u001b[39m]\u001b[38;5;241m=\u001b[39mchoice(strategies)\n",
      "\u001b[0;31mNameError\u001b[0m: name 'society' is not defined"
     ]
    }
   ],
   "source": [
    "#resetting society\n",
    "\n",
    "classmates = [{'name':n, 'score':0, 'strategy':None} for n in names]\n",
    "\n",
    "#serveral rounds\n",
    "for aRound in range(1000):\n",
    "    \n",
    "    #each round\n",
    "    for player1,player2 in itertools.combinations(society,2):\n",
    "        #each choose strategy\n",
    "        player1['strategy']=choice(strategies)\n",
    "        player2['strategy']=choice(strategies)\n",
    "        #result from strategy chosen\n",
    "        result=payoff[player1['strategy'], player2['strategy']]\n",
    "        #update socres\n",
    "        player1['score']+=result[0]\n",
    "        player2['score']+=result[1]"
   ]
  },
  {
   "cell_type": "code",
   "execution_count": null,
   "id": "b5d68b0b",
   "metadata": {},
   "outputs": [],
   "source": [
    "#final situation\n",
    "classmates"
   ]
  },
  {
   "cell_type": "code",
   "execution_count": null,
   "id": "880feabd",
   "metadata": {},
   "outputs": [],
   "source": [
    "#as a data frame\n",
    "socialResults=pd.DataFrame(classmates)\n",
    "socialResults"
   ]
  },
  {
   "cell_type": "code",
   "execution_count": null,
   "id": "c4e70442",
   "metadata": {},
   "outputs": [],
   "source": [
    "winnerScore=socialResults.score.max()\n",
    "\n",
    "#socialoutcome\n",
    "socialResults[socialResults.score==winnerScore]"
   ]
  },
  {
   "cell_type": "code",
   "execution_count": null,
   "id": "4ef6c64a",
   "metadata": {},
   "outputs": [],
   "source": []
  }
 ],
 "metadata": {
  "kernelspec": {
   "display_name": "Python 3 (ipykernel)",
   "language": "python",
   "name": "python3"
  },
  "language_info": {
   "codemirror_mode": {
    "name": "ipython",
    "version": 3
   },
   "file_extension": ".py",
   "mimetype": "text/x-python",
   "name": "python",
   "nbconvert_exporter": "python",
   "pygments_lexer": "ipython3",
   "version": "3.9.16"
  }
 },
 "nbformat": 4,
 "nbformat_minor": 5
}
