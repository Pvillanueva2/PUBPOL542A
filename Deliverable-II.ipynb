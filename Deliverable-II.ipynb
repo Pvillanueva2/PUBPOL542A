{
 "cells": [
  {
   "cell_type": "markdown",
   "id": "84d6df7e",
   "metadata": {},
   "source": [
    "# Data Analysis\n",
    "Background: There is an ever-increasing of adult living with HIV in developing countries. We gathered data and looking at the HIV prevelanence in countries that have high youth unemployment rate and low education expenditure. We also compare it to the GDP per capita rate of countries.\n",
    "\n",
    "The Data: the data itself were collected by the CIA World Factbook"
   ]
  },
  {
   "cell_type": "markdown",
   "id": "81b4087c",
   "metadata": {},
   "source": [
    "# Research Method - Cluster Analysis\n",
    "In order to proceed with data analysis, I want to sue the clustering method to be able to discern the available data in hand. if high youth unemployment rate, low education expenditure, and low GDP per capita rates are high predictor of HIV prevalence in a country then cluster should be able to group countries."
   ]
  },
  {
   "cell_type": "code",
   "execution_count": 1,
   "id": "ade1f182",
   "metadata": {},
   "outputs": [
    {
     "name": "stdout",
     "output_type": "stream",
     "text": [
      "'data.frame':\t111 obs. of  5 variables:\n",
      " $ country         : Factor w/ 111 levels \"Angola\",\"Argentina\",..: 31 93 35 27 26 13 73 39 61 95 ...\n",
      " $ unemploymentrate: num  79.9 64.2 50.9 45.4 42.3 41.2 40.4 38.4 37.4 36.9 ...\n",
      " $ expenditureratio: num  3.6 6.6 5 6.7 4.5 8.7 9.6 3.2 8.7 4.6 ...\n",
      " $ GDPpercapita    : num  4900 13300 8900 21200 3200 14800 9100 13800 2300 37900 ...\n",
      " $ HIVrate         : num  0.7 18.3 27.9 0.5 3.8 18.6 11.8 3 20.9 0.3 ...\n"
     ]
    }
   ],
   "source": [
    "#clean memory\n",
    "rm(list = ls())\n",
    "\n",
    "#link to data file through github\n",
    "link = \"https://github.com/Pvillanueva2/PUBPOL542A/raw/main/allDataClean.csv\"\n",
    "myFile = url(link)\n",
    "\n",
    "#reading the data\n",
    "fromPy=read.csv(file = myFile)\n",
    "\n",
    "#reset indexes to R aparadigm:\n",
    "row.names(fromPy) = NULL\n",
    "\n",
    "#check data types\n",
    "str(fromPy)"
   ]
  },
  {
   "cell_type": "markdown",
   "id": "ce71699d",
   "metadata": {},
   "source": [
    "## Preparing the Data\n"
   ]
  },
  {
   "cell_type": "code",
   "execution_count": 2,
   "id": "5b06e384",
   "metadata": {},
   "outputs": [],
   "source": [
    "#selecting the variables\n",
    "ClusterD=fromPy[,-c(1:2,4)]\n",
    "\n",
    "#save the country names as the row index\n",
    "row.names(ClusterD)=fromPy$country"
   ]
  },
  {
   "cell_type": "markdown",
   "id": "8a25cad5",
   "metadata": {},
   "source": [
    "# Computing the Distance Matrix"
   ]
  },
  {
   "cell_type": "code",
   "execution_count": 3,
   "id": "71a03e8d",
   "metadata": {},
   "outputs": [],
   "source": [
    "#setting random seed to use random proccess\n",
    "\n",
    "set.seed(950)"
   ]
  },
  {
   "cell_type": "code",
   "execution_count": 4,
   "id": "87dd9c85",
   "metadata": {},
   "outputs": [],
   "source": [
    "library(cluster)\n",
    "distMatrix=daisy(x=ClusterD, metric = \"gower\")"
   ]
  },
  {
   "cell_type": "code",
   "execution_count": 5,
   "id": "f0a26a70",
   "metadata": {},
   "outputs": [],
   "source": [
    "projectedData = cmdscale(distMatrix, k=2)\n"
   ]
  },
  {
   "cell_type": "code",
   "execution_count": 6,
   "id": "9f3f5133",
   "metadata": {},
   "outputs": [
    {
     "data": {
      "text/html": [
       "<table>\n",
       "<thead><tr><th scope=col>dim1</th><th scope=col>dim2</th></tr></thead>\n",
       "<tbody>\n",
       "\t<tr><td> 0.061988524</td><td> 0.006560390</td></tr>\n",
       "\t<tr><td>-0.386312910</td><td> 0.164665618</td></tr>\n",
       "\t<tr><td>-0.317023875</td><td> 0.431573999</td></tr>\n",
       "\t<tr><td>-0.100085194</td><td>-0.095080818</td></tr>\n",
       "\t<tr><td>-0.025580674</td><td> 0.064468888</td></tr>\n",
       "\t<tr><td>-0.537463947</td><td> 0.086966020</td></tr>\n",
       "\t<tr><td>-0.439657817</td><td> 0.003788322</td></tr>\n",
       "\t<tr><td> 0.062771378</td><td> 0.068136782</td></tr>\n",
       "\t<tr><td>-0.581608962</td><td> 0.105420676</td></tr>\n",
       "\t<tr><td> 0.007498836</td><td>-0.013177495</td></tr>\n",
       "</tbody>\n",
       "</table>\n"
      ],
      "text/latex": [
       "\\begin{tabular}{r|ll}\n",
       " dim1 & dim2\\\\\n",
       "\\hline\n",
       "\t  0.061988524 &  0.006560390\\\\\n",
       "\t -0.386312910 &  0.164665618\\\\\n",
       "\t -0.317023875 &  0.431573999\\\\\n",
       "\t -0.100085194 & -0.095080818\\\\\n",
       "\t -0.025580674 &  0.064468888\\\\\n",
       "\t -0.537463947 &  0.086966020\\\\\n",
       "\t -0.439657817 &  0.003788322\\\\\n",
       "\t  0.062771378 &  0.068136782\\\\\n",
       "\t -0.581608962 &  0.105420676\\\\\n",
       "\t  0.007498836 & -0.013177495\\\\\n",
       "\\end{tabular}\n"
      ],
      "text/markdown": [
       "\n",
       "| dim1 | dim2 |\n",
       "|---|---|\n",
       "|  0.061988524 |  0.006560390 |\n",
       "| -0.386312910 |  0.164665618 |\n",
       "| -0.317023875 |  0.431573999 |\n",
       "| -0.100085194 | -0.095080818 |\n",
       "| -0.025580674 |  0.064468888 |\n",
       "| -0.537463947 |  0.086966020 |\n",
       "| -0.439657817 |  0.003788322 |\n",
       "|  0.062771378 |  0.068136782 |\n",
       "| -0.581608962 |  0.105420676 |\n",
       "|  0.007498836 | -0.013177495 |\n",
       "\n"
      ],
      "text/plain": [
       "   dim1         dim2        \n",
       "1   0.061988524  0.006560390\n",
       "2  -0.386312910  0.164665618\n",
       "3  -0.317023875  0.431573999\n",
       "4  -0.100085194 -0.095080818\n",
       "5  -0.025580674  0.064468888\n",
       "6  -0.537463947  0.086966020\n",
       "7  -0.439657817  0.003788322\n",
       "8   0.062771378  0.068136782\n",
       "9  -0.581608962  0.105420676\n",
       "10  0.007498836 -0.013177495"
      ]
     },
     "metadata": {},
     "output_type": "display_data"
    }
   ],
   "source": [
    "fromPy$dim1 = projectedData[,1]\n",
    "fromPy$dim2 = projectedData[,2]\n",
    "\n",
    "fromPy[,c('dim1', 'dim2')][1:10,]"
   ]
  },
  {
   "cell_type": "code",
   "execution_count": 10,
   "id": "04ef2773",
   "metadata": {},
   "outputs": [
    {
     "ename": "ERROR",
     "evalue": "Error in library(ggplot2): there is no package called 'ggplot2'\n",
     "output_type": "error",
     "traceback": [
      "Error in library(ggplot2): there is no package called 'ggplot2'\nTraceback:\n",
      "1. library(ggplot2)"
     ]
    }
   ],
   "source": [
    "library(ggplot2)\n",
    "base = ggplot(data=fromPy,\n",
    "            aes(x=dim1, y=dim2,\n",
    "               label=country))\n",
    "base + geom_text(size=2)"
   ]
  },
  {
   "cell_type": "code",
   "execution_count": null,
   "id": "a7735c42",
   "metadata": {},
   "outputs": [],
   "source": [
    "hc = hclust(distMatrix)\n",
    "plot(hc,hang = -1, cex=0.5)"
   ]
  },
  {
   "cell_type": "markdown",
   "id": "9a4fc6b1",
   "metadata": {},
   "source": [
    "# Compute Clusters"
   ]
  },
  {
   "cell_type": "code",
   "execution_count": null,
   "id": "85cca953",
   "metadata": {},
   "outputs": [],
   "source": [
    "install.packages(\"factoextra\")"
   ]
  },
  {
   "cell_type": "code",
   "execution_count": null,
   "id": "1729d72c",
   "metadata": {},
   "outputs": [],
   "source": [
    "library(factoextra)"
   ]
  },
  {
   "cell_type": "code",
   "execution_count": null,
   "id": "6567a553",
   "metadata": {},
   "outputs": [],
   "source": [
    "fviz_nbclust(ClusterD,\n",
    "            hcut,\n",
    "            diss=distMatrix,\n",
    "            method = \"gap_stat\",\n",
    "             k.max = 10,\n",
    "             verbose = F,\n",
    "             hc_func = \"agnes\")"
   ]
  },
  {
   "cell_type": "code",
   "execution_count": null,
   "id": "c6413090",
   "metadata": {},
   "outputs": [],
   "source": []
  }
 ],
 "metadata": {
  "kernelspec": {
   "display_name": "R",
   "language": "R",
   "name": "ir"
  },
  "language_info": {
   "codemirror_mode": "r",
   "file_extension": ".r",
   "mimetype": "text/x-r-source",
   "name": "R",
   "pygments_lexer": "r",
   "version": "3.6.1"
  }
 },
 "nbformat": 4,
 "nbformat_minor": 5
}
