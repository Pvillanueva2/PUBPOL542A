{
  "cells": [
    {
      "cell_type": "markdown",
      "metadata": {
        "id": "view-in-github",
        "colab_type": "text"
      },
      "source": [
        "<a href=\"https://colab.research.google.com/github/Pvillanueva2/PUBPOL542A/blob/main/Deliverable_II.ipynb\" target=\"_parent\"><img src=\"https://colab.research.google.com/assets/colab-badge.svg\" alt=\"Open In Colab\"/></a>"
      ]
    },
    {
      "cell_type": "markdown",
      "id": "84d6df7e",
      "metadata": {
        "id": "84d6df7e"
      },
      "source": [
        "# Data Analysis\n",
        "Background: There is an ever-increasing of adult living with HIV in developing countries. We gathered data and looking at the HIV prevelanence in countries that have high youth unemployment rate and low education expenditure. We also compare it to the GDP per capita rate of countries.\n",
        "\n",
        "The Data: the data itself were collected by the CIA World Factbook"
      ]
    },
    {
      "cell_type": "markdown",
      "id": "81b4087c",
      "metadata": {
        "id": "81b4087c"
      },
      "source": [
        "# Research Method - Factor Analysis\n",
        "In order to proceed with data analysis, I want to sue the clustering method to be able to discern the available data in hand. if high youth unemployment rate, low education expenditure, and low GDP per capita rates are high predictor of HIV prevalence in a country then factor analysis should be able to measure similarity among variables"
      ]
    },
    {
      "cell_type": "code",
      "execution_count": null,
      "id": "ade1f182",
      "metadata": {
        "colab": {
          "base_uri": "https://localhost:8080/"
        },
        "id": "ade1f182",
        "outputId": "de42d2fb-fbb7-4271-f39f-5339b0ff880b"
      },
      "outputs": [
        {
          "output_type": "stream",
          "name": "stdout",
          "text": [
            "'data.frame':\t111 obs. of  5 variables:\n",
            " $ country         : chr  \"Djibouti\" \"South Africa\" \"Eswatini\" \"Costa Rica\" ...\n",
            " $ unemploymentrate: num  79.9 64.2 50.9 45.4 42.3 41.2 40.4 38.4 37.4 36.9 ...\n",
            " $ expenditureratio: num  3.6 6.6 5 6.7 4.5 8.7 9.6 3.2 8.7 4.6 ...\n",
            " $ GDPpercapita    : num  4900 13300 8900 21200 3200 14800 9100 13800 2300 37900 ...\n",
            " $ HIVrate         : num  0.7 18.3 27.9 0.5 3.8 18.6 11.8 3 20.9 0.3 ...\n"
          ]
        }
      ],
      "source": [
        "#clean memory\n",
        "rm(list = ls())\n",
        "\n",
        "#link to data file through github\n",
        "link = \"https://github.com/Pvillanueva2/PUBPOL542A/raw/main/allDataClean.csv\"\n",
        "myFile = url(link)\n",
        "\n",
        "#reading the data\n",
        "fromPy=read.csv(file = myFile)\n",
        "\n",
        "#reset indexes to R aparadigm:\n",
        "row.names(fromPy) = NULL\n",
        "\n",
        "#check data types\n",
        "str(fromPy)"
      ]
    },
    {
      "cell_type": "code",
      "source": [
        "install.packages(\"polycor\")"
      ],
      "metadata": {
        "colab": {
          "base_uri": "https://localhost:8080/"
        },
        "id": "LXED4B_4FTTi",
        "outputId": "937041a8-875e-4885-c332-3dd7b018267d"
      },
      "id": "LXED4B_4FTTi",
      "execution_count": null,
      "outputs": [
        {
          "output_type": "stream",
          "name": "stderr",
          "text": [
            "Installing package into ‘/usr/local/lib/R/site-library’\n",
            "(as ‘lib’ is unspecified)\n",
            "\n"
          ]
        }
      ]
    },
    {
      "cell_type": "markdown",
      "id": "8a25cad5",
      "metadata": {
        "id": "8a25cad5"
      },
      "source": [
        "# Computing the Correlations"
      ]
    },
    {
      "cell_type": "code",
      "execution_count": null,
      "id": "5b06e384",
      "metadata": {
        "id": "5b06e384",
        "colab": {
          "base_uri": "https://localhost:8080/"
        },
        "outputId": "71860828-7978-4789-ef1a-47f573875648"
      },
      "outputs": [
        {
          "output_type": "stream",
          "name": "stderr",
          "text": [
            "data contain one or more character variables\n",
            "the values of which are ordered alphabetically\n",
            "\n"
          ]
        }
      ],
      "source": [
        "library(polycor)\n",
        "corMatrix=polycor::hetcor(fromPy)$correlations"
      ]
    },
    {
      "cell_type": "code",
      "execution_count": null,
      "id": "71a03e8d",
      "metadata": {
        "id": "71a03e8d",
        "colab": {
          "base_uri": "https://localhost:8080/"
        },
        "outputId": "ba21ca55-5693-4077-8843-3445be96e4ba"
      },
      "outputs": [
        {
          "output_type": "stream",
          "name": "stderr",
          "text": [
            "Installing package into ‘/usr/local/lib/R/site-library’\n",
            "(as ‘lib’ is unspecified)\n",
            "\n",
            "Installing package into ‘/usr/local/lib/R/site-library’\n",
            "(as ‘lib’ is unspecified)\n",
            "\n",
            "also installing the dependencies ‘plyr’, ‘reshape2’\n",
            "\n",
            "\n"
          ]
        }
      ],
      "source": [
        "#installing package for ggplot2 and corrplot\n",
        "install.packages(\"ggplot2\")\n",
        "install.packages(\"ggcorrplot\")"
      ]
    },
    {
      "cell_type": "code",
      "execution_count": null,
      "id": "87dd9c85",
      "metadata": {
        "id": "87dd9c85",
        "colab": {
          "base_uri": "https://localhost:8080/",
          "height": 437
        },
        "outputId": "706200bc-7ac6-48c3-e210-77a418ac0406"
      },
      "outputs": [
        {
          "output_type": "display_data",
          "data": {
            "text/plain": [
              "plot without title"
            ],
            "image/png": "[encoded data removed]"
          },
          "metadata": {
            "image/png": {
              "width": 420,
              "height": 420
            }
          }
        }
      ],
      "source": [
        "#visualizing \n",
        "library(ggcorrplot)\n",
        "\n",
        "ggcorrplot(corMatrix, \n",
        "           type = \"lower\") +\n",
        "          theme(axis.text.x = element_text(size = 5),\n",
        "                axis.text.y = element_text(size = 5))"
      ]
    },
    {
      "cell_type": "markdown",
      "source": [
        "# Checking Coditions"
      ],
      "metadata": {
        "id": "TmBc8Db1IPAf"
      },
      "id": "TmBc8Db1IPAf"
    },
    {
      "cell_type": "code",
      "execution_count": null,
      "id": "9f3f5133",
      "metadata": {
        "id": "9f3f5133",
        "colab": {
          "base_uri": "https://localhost:8080/"
        },
        "outputId": "67df715e-6df1-43df-a492-e47ef13619c0"
      },
      "outputs": [
        {
          "output_type": "stream",
          "name": "stderr",
          "text": [
            "Installing package into ‘/usr/local/lib/R/site-library’\n",
            "(as ‘lib’ is unspecified)\n",
            "\n",
            "also installing the dependency ‘mnormt’\n",
            "\n",
            "\n",
            "\n",
            "Attaching package: ‘psych’\n",
            "\n",
            "\n",
            "The following objects are masked from ‘package:ggplot2’:\n",
            "\n",
            "    %+%, alpha\n",
            "\n",
            "\n",
            "The following object is masked from ‘package:polycor’:\n",
            "\n",
            "    polyserial\n",
            "\n",
            "\n"
          ]
        }
      ],
      "source": [
        "install.packages(\"psych\")"
      ]
    },
    {
      "cell_type": "code",
      "source": [
        "library(psych)\n",
        "psych::KMO(corMatrix)"
      ],
      "metadata": {
        "colab": {
          "base_uri": "https://localhost:8080/",
          "height": 159
        },
        "id": "T69kqOhxIqzZ",
        "outputId": "a1819479-de50-4f88-c2e1-2be69be91ae4"
      },
      "id": "T69kqOhxIqzZ",
      "execution_count": null,
      "outputs": [
        {
          "output_type": "display_data",
          "data": {
            "text/plain": [
              "Kaiser-Meyer-Olkin factor adequacy\n",
              "Call: psych::KMO(r = corMatrix)\n",
              "Overall MSA =  0.53\n",
              "MSA for each item = \n",
              "         country unemploymentrate expenditureratio     GDPpercapita \n",
              "            0.36             0.56             0.63             0.39 \n",
              "         HIVrate \n",
              "            0.51 "
            ]
          },
          "metadata": {}
        }
      ]
    },
    {
      "cell_type": "markdown",
      "source": [
        "Testing if correlation matrix not an identity matrix"
      ],
      "metadata": {
        "id": "dDeVEgfaJEI2"
      },
      "id": "dDeVEgfaJEI2"
    },
    {
      "cell_type": "code",
      "execution_count": null,
      "id": "04ef2773",
      "metadata": {
        "id": "04ef2773",
        "colab": {
          "base_uri": "https://localhost:8080/",
          "height": 34
        },
        "outputId": "3bce168d-8bc7-4623-fa89-16cccf32d218"
      },
      "outputs": [
        {
          "output_type": "display_data",
          "data": {
            "text/html": [
              "FALSE"
            ],
            "text/markdown": "FALSE",
            "text/latex": "FALSE",
            "text/plain": [
              "[1] FALSE"
            ]
          },
          "metadata": {}
        }
      ],
      "source": [
        "cortest.bartlett(corMatrix, n=nrow(fromPy))$p.value>0.05"
      ]
    },
    {
      "cell_type": "code",
      "execution_count": null,
      "id": "a7735c42",
      "metadata": {
        "id": "a7735c42",
        "colab": {
          "base_uri": "https://localhost:8080/",
          "height": 88
        },
        "outputId": "af0e649d-090c-4da0-cdc0-777406cb504f"
      },
      "outputs": [
        {
          "output_type": "stream",
          "name": "stderr",
          "text": [
            "Installing package into ‘/usr/local/lib/R/site-library’\n",
            "(as ‘lib’ is unspecified)\n",
            "\n"
          ]
        },
        {
          "output_type": "display_data",
          "data": {
            "text/html": [
              "FALSE"
            ],
            "text/markdown": "FALSE",
            "text/latex": "FALSE",
            "text/plain": [
              "[1] FALSE"
            ]
          },
          "metadata": {}
        }
      ],
      "source": [
        "install.packages(\"matrixcalc\")\n",
        "library(matrixcalc)\n",
        "is.singular.matrix(corMatrix)"
      ]
    },
    {
      "cell_type": "markdown",
      "source": [
        "# Compute the Factrors\n",
        "\n"
      ],
      "metadata": {
        "id": "W_vYrHhNJsGn"
      },
      "id": "W_vYrHhNJsGn"
    },
    {
      "cell_type": "code",
      "execution_count": null,
      "id": "6567a553",
      "metadata": {
        "id": "6567a553",
        "colab": {
          "base_uri": "https://localhost:8080/"
        },
        "outputId": "2b26d224-9435-47e3-f192-2e70cae8a59c"
      },
      "outputs": [
        {
          "output_type": "stream",
          "name": "stderr",
          "text": [
            "Installing package into ‘/usr/local/lib/R/site-library’\n",
            "(as ‘lib’ is unspecified)\n",
            "\n"
          ]
        }
      ],
      "source": [
        "install.packages(\"GPArotation\")\n",
        "library(GPArotation)\n",
        "resfa <- fa(fromPy[,-1],\n",
        "            nfactors = 2,\n",
        "            cor = 'mixed',\n",
        "            rotate = 'varimax',\n",
        "            fm=\"minres\")"
      ]
    },
    {
      "cell_type": "code",
      "source": [
        "print(resfa$loadings, cutoff = 0.5)"
      ],
      "metadata": {
        "id": "P01ByTyUDn3W",
        "colab": {
          "base_uri": "https://localhost:8080/"
        },
        "outputId": "8d92af7e-a07b-4c2f-ae3e-c381bb4dc047"
      },
      "id": "P01ByTyUDn3W",
      "execution_count": null,
      "outputs": [
        {
          "output_type": "stream",
          "name": "stdout",
          "text": [
            "\n",
            "Loadings:\n",
            "                 MR1    MR2   \n",
            "unemploymentrate  0.647       \n",
            "expenditureratio              \n",
            "GDPpercapita             0.503\n",
            "HIVrate           0.614       \n",
            "\n",
            "                 MR1   MR2\n",
            "SS loadings    1.017 0.414\n",
            "Proportion Var 0.254 0.103\n",
            "Cumulative Var 0.254 0.358\n"
          ]
        }
      ]
    },
    {
      "cell_type": "code",
      "source": [
        "fa.diagram(resfa, main = \"EFA results\")"
      ],
      "metadata": {
        "id": "4SzAxLcIHHcV",
        "colab": {
          "base_uri": "https://localhost:8080/",
          "height": 437
        },
        "outputId": "30298ca4-a73c-4721-b63c-575385714fea"
      },
      "id": "4SzAxLcIHHcV",
      "execution_count": null,
      "outputs": [
        {
          "output_type": "display_data",
          "data": {
            "text/plain": [
              "Plot with title “EFA results”"
            ],
            "image/png": "[encoded data removed]"
          },
          "metadata": {
            "image/png": {
              "width": 420,
              "height": 420
            }
          }
        }
      ]
    },
    {
      "cell_type": "code",
      "source": [
        "sort(resfa$communality)"
      ],
      "metadata": {
        "colab": {
          "base_uri": "https://localhost:8080/",
          "height": 34
        },
        "id": "L3vOsLvWQjlr",
        "outputId": "43821f48-a7f0-423a-aee4-ab11f6090341"
      },
      "id": "L3vOsLvWQjlr",
      "execution_count": null,
      "outputs": [
        {
          "output_type": "display_data",
          "data": {
            "text/html": [
              "<style>\n",
              ".dl-inline {width: auto; margin:0; padding: 0}\n",
              ".dl-inline>dt, .dl-inline>dd {float: none; width: auto; display: inline-block}\n",
              ".dl-inline>dt::after {content: \":\\0020\"; padding-right: .5ex}\n",
              ".dl-inline>dt:not(:first-of-type) {padding-left: .5ex}\n",
              "</style><dl class=dl-inline><dt>expenditureratio</dt><dd>0.243862481477801</dd><dt>GDPpercapita</dt><dd>0.253458424955126</dd><dt>unemploymentrate</dt><dd>0.421993933573547</dd><dt>HIVrate</dt><dd>0.511749763965386</dd></dl>\n"
            ],
            "text/markdown": "expenditureratio\n:   0.243862481477801GDPpercapita\n:   0.253458424955126unemploymentrate\n:   0.421993933573547HIVrate\n:   0.511749763965386\n\n",
            "text/latex": "\\begin{description*}\n\\item[expenditureratio] 0.243862481477801\n\\item[GDPpercapita] 0.253458424955126\n\\item[unemploymentrate] 0.421993933573547\n\\item[HIVrate] 0.511749763965386\n\\end{description*}\n",
            "text/plain": [
              "expenditureratio     GDPpercapita unemploymentrate          HIVrate \n",
              "       0.2438625        0.2534584        0.4219939        0.5117498 "
            ]
          },
          "metadata": {}
        }
      ]
    },
    {
      "cell_type": "code",
      "source": [
        "sort(resfa$complexity)"
      ],
      "metadata": {
        "colab": {
          "base_uri": "https://localhost:8080/",
          "height": 34
        },
        "id": "XuXYgbpsRbe7",
        "outputId": "77deb394-b473-4a3c-9c27-f7d82190b748"
      },
      "id": "XuXYgbpsRbe7",
      "execution_count": null,
      "outputs": [
        {
          "output_type": "display_data",
          "data": {
            "text/html": [
              "<style>\n",
              ".dl-inline {width: auto; margin:0; padding: 0}\n",
              ".dl-inline>dt, .dl-inline>dd {float: none; width: auto; display: inline-block}\n",
              ".dl-inline>dt::after {content: \":\\0020\"; padding-right: .5ex}\n",
              ".dl-inline>dt:not(:first-of-type) {padding-left: .5ex}\n",
              "</style><dl class=dl-inline><dt>GDPpercapita</dt><dd>1.00054616151762</dd><dt>unemploymentrate</dt><dd>1.01341824820647</dd><dt>expenditureratio</dt><dd>1.1997251638422</dd><dt>HIVrate</dt><dd>1.63549935515708</dd></dl>\n"
            ],
            "text/markdown": "GDPpercapita\n:   1.00054616151762unemploymentrate\n:   1.01341824820647expenditureratio\n:   1.1997251638422HIVrate\n:   1.63549935515708\n\n",
            "text/latex": "\\begin{description*}\n\\item[GDPpercapita] 1.00054616151762\n\\item[unemploymentrate] 1.01341824820647\n\\item[expenditureratio] 1.1997251638422\n\\item[HIVrate] 1.63549935515708\n\\end{description*}\n",
            "text/plain": [
              "    GDPpercapita unemploymentrate expenditureratio          HIVrate \n",
              "        1.000546         1.013418         1.199725         1.635499 "
            ]
          },
          "metadata": {}
        }
      ]
    },
    {
      "cell_type": "markdown",
      "source": [
        "# Computing the Scores"
      ],
      "metadata": {
        "id": "gCg3-tcURxMm"
      },
      "id": "gCg3-tcURxMm"
    },
    {
      "cell_type": "code",
      "source": [
        "summary(resfa$scores)"
      ],
      "metadata": {
        "colab": {
          "base_uri": "https://localhost:8080/",
          "height": 142
        },
        "id": "gVfPZD3LRpWx",
        "outputId": "30986541-1b7a-472f-b187-77f5975b6967"
      },
      "id": "gVfPZD3LRpWx",
      "execution_count": null,
      "outputs": [
        {
          "output_type": "display_data",
          "data": {
            "text/plain": [
              "      MR1               MR2          \n",
              " Min.   :-0.9456   Min.   :-2.08644  \n",
              " 1st Qu.:-0.4643   1st Qu.:-0.36651  \n",
              " Median :-0.1584   Median :-0.05757  \n",
              " Mean   : 0.0000   Mean   : 0.00000  \n",
              " 3rd Qu.: 0.1959   3rd Qu.: 0.27658  \n",
              " Max.   : 3.4232   Max.   : 2.05880  "
            ]
          },
          "metadata": {}
        }
      ]
    },
    {
      "cell_type": "code",
      "source": [
        "install.packages(\"BBmisc\")"
      ],
      "metadata": {
        "colab": {
          "base_uri": "https://localhost:8080/"
        },
        "id": "0t0uIeQbVlBS",
        "outputId": "a918c549-9939-4917-a170-541fe44971ec"
      },
      "id": "0t0uIeQbVlBS",
      "execution_count": null,
      "outputs": [
        {
          "output_type": "stream",
          "name": "stderr",
          "text": [
            "Installing package into ‘/usr/local/lib/R/site-library’\n",
            "(as ‘lib’ is unspecified)\n",
            "\n"
          ]
        }
      ]
    },
    {
      "cell_type": "code",
      "source": [
        "library(BBmisc)\n",
        "efa_scores=normalize(resfa$scores,\n",
        "                      method = \"range\",\n",
        "                      margin = 2,\n",
        "                      range = c(0,10))\n",
        "#saving the scores from data so that we can call column later\n",
        "fromPy$Fragile_efa=efa_scores[,1]\n",
        "fromPy$actual_efa=efa_scores[,2]"
      ],
      "metadata": {
        "id": "TawVFwDbU3Ik"
      },
      "id": "TawVFwDbU3Ik",
      "execution_count": null,
      "outputs": []
    },
    {
      "cell_type": "code",
      "source": [
        "install.packages(\"ggpubr\")\n",
        "library(ggpubr)\n",
        "ggscatter(data=fromPy, x =\"Fragile_efa\", y = \"actual_efa\",\n",
        "          add = \"reg.line\", conf.int = TRUE,\n",
        "          cor.coef = TRUE, cor.method = \"pearson\",\n",
        "          xlab = \"DemoIndex (original)\", ylab = \"DemoIndex (efa)\")"
      ],
      "metadata": {
        "colab": {
          "base_uri": "https://localhost:8080/",
          "height": 490
        },
        "id": "twI_yWt3R3zY",
        "outputId": "6dff0177-0026-4945-cb37-b01de998c197"
      },
      "id": "twI_yWt3R3zY",
      "execution_count": null,
      "outputs": [
        {
          "output_type": "stream",
          "name": "stderr",
          "text": [
            "Installing package into ‘/usr/local/lib/R/site-library’\n",
            "(as ‘lib’ is unspecified)\n",
            "\n"
          ]
        },
        {
          "output_type": "display_data",
          "data": {
            "text/plain": [
              "plot without title"
            ],
            "image/png": "[encoded data removed]"
          },
          "metadata": {
            "image/png": {
              "width": 420,
              "height": 420
            }
          }
        }
      ]
    },
    {
      "cell_type": "markdown",
      "source": [
        "# Running Regression"
      ],
      "metadata": {
        "id": "O2DZzdSsYbgj"
      },
      "id": "O2DZzdSsYbgj"
    },
    {
      "cell_type": "code",
      "source": [
        "str(fromPy, width = 70, strict.width = 'cut')"
      ],
      "metadata": {
        "colab": {
          "base_uri": "https://localhost:8080/"
        },
        "id": "T-kJWBxDY0tj",
        "outputId": "8dc9b8dd-adc7-4305-ea4a-ff68522b8bf8"
      },
      "id": "T-kJWBxDY0tj",
      "execution_count": null,
      "outputs": [
        {
          "output_type": "stream",
          "name": "stdout",
          "text": [
            "'data.frame':\t111 obs. of  8 variables:\n",
            " $ country         : chr  \"Djibouti\" \"South Africa\" \"Eswatini\" \"Cos\"..\n",
            " $ unemploymentrate: num  79.9 64.2 50.9 45.4 42.3 41.2 40.4 38.4 37..\n",
            " $ expenditureratio: num  3.6 6.6 5 6.7 4.5 8.7 9.6 3.2 8.7 4.6 ...\n",
            " $ GDPpercapita    : num  4900 13300 8900 21200 3200 14800 9100 1380..\n",
            " $ HIVrate         : num  0.7 18.3 27.9 0.5 3.8 18.6 11.8 3 20.9 0.3..\n",
            " $ Fragile_efa     : num  5.91 9.48 10 4.54 4.19 ...\n",
            " $ Demo_efa        : num  5.05 2.59 0 6.29 4.25 ...\n",
            " $ actual_efa      : num  5.05 2.59 0 6.29 4.25 ...\n"
          ]
        }
      ]
    },
    {
      "cell_type": "code",
      "source": [
        "# hypothesis 1: HIVrate is related to the education expenditure\n",
        "hy1 = formula(Demo_efa~ expenditureratio)\n",
        "\n",
        "#hypothesis 2: HIVrate is related to unemployment rate\n",
        "hy2 = formula(Demo_efa~ expenditureratio + unemploymentrate)\n",
        "\n",
        "#hypothesis 3: HIV rate is related to GDP per capita\n",
        "hy3 = formula(Demo_efa~ expenditureratio + unemploymentrate + GDPpercapita)"
      ],
      "metadata": {
        "id": "LaXqPsiWR-_s"
      },
      "id": "LaXqPsiWR-_s",
      "execution_count": null,
      "outputs": []
    },
    {
      "cell_type": "code",
      "source": [
        "#results using gaussian\n",
        "\n",
        "gauss1=glm(hy1,\n",
        "           data = fromPy,\n",
        "           family = \"gaussian\")\n",
        "\n",
        "gauss2=glm(hy2,\n",
        "           data = fromPy,\n",
        "           family =\"gaussian\")\n",
        "\n",
        "gauss3=glm(hy3,\n",
        "           data = fromPy,\n",
        "           family = \"gaussian\")"
      ],
      "metadata": {
        "id": "25uUEyZUZZ5S"
      },
      "id": "25uUEyZUZZ5S",
      "execution_count": null,
      "outputs": []
    },
    {
      "cell_type": "code",
      "source": [
        "summary(gauss1)"
      ],
      "metadata": {
        "colab": {
          "base_uri": "https://localhost:8080/",
          "height": 409
        },
        "id": "6DHICxeka3og",
        "outputId": "4bc83d34-9641-4cf4-fd1f-6fc1007e7cd7"
      },
      "id": "6DHICxeka3og",
      "execution_count": null,
      "outputs": [
        {
          "output_type": "display_data",
          "data": {
            "text/plain": [
              "\n",
              "Call:\n",
              "glm(formula = hy1, family = \"gaussian\", data = fromPy)\n",
              "\n",
              "Deviance Residuals: \n",
              "    Min       1Q   Median       3Q      Max  \n",
              "-5.1438  -0.6089  -0.0960   0.4061   4.8562  \n",
              "\n",
              "Coefficients:\n",
              "                 Estimate Std. Error t value Pr(>|t|)    \n",
              "(Intercept)       4.14511    0.36176  11.458  < 2e-16 ***\n",
              "expenditureratio  0.19974    0.07542   2.648  0.00929 ** \n",
              "---\n",
              "Signif. codes:  0 ‘***’ 0.001 ‘**’ 0.01 ‘*’ 0.05 ‘.’ 0.1 ‘ ’ 1\n",
              "\n",
              "(Dispersion parameter for gaussian family taken to be 2.039791)\n",
              "\n",
              "    Null deviance: 236.64  on 110  degrees of freedom\n",
              "Residual deviance: 222.34  on 109  degrees of freedom\n",
              "AIC: 398.11\n",
              "\n",
              "Number of Fisher Scoring iterations: 2\n"
            ]
          },
          "metadata": {}
        }
      ]
    },
    {
      "cell_type": "code",
      "source": [
        "summary(gauss2)"
      ],
      "metadata": {
        "colab": {
          "base_uri": "https://localhost:8080/",
          "height": 427
        },
        "id": "VfZXdGRYa_O2",
        "outputId": "ee55f79e-70b2-467e-ee5c-70946251df40"
      },
      "id": "VfZXdGRYa_O2",
      "execution_count": null,
      "outputs": [
        {
          "output_type": "display_data",
          "data": {
            "text/plain": [
              "\n",
              "Call:\n",
              "glm(formula = hy2, family = \"gaussian\", data = fromPy)\n",
              "\n",
              "Deviance Residuals: \n",
              "    Min       1Q   Median       3Q      Max  \n",
              "-4.5273  -0.7585  -0.1486   0.6010   4.7820  \n",
              "\n",
              "Coefficients:\n",
              "                 Estimate Std. Error t value Pr(>|t|)    \n",
              "(Intercept)       4.30153    0.36805  11.687  < 2e-16 ***\n",
              "expenditureratio  0.24210    0.07815   3.098  0.00248 ** \n",
              "unemploymentrate -0.01935    0.01059  -1.826  0.07059 .  \n",
              "---\n",
              "Signif. codes:  0 ‘***’ 0.001 ‘**’ 0.01 ‘*’ 0.05 ‘.’ 0.1 ‘ ’ 1\n",
              "\n",
              "(Dispersion parameter for gaussian family taken to be 1.997014)\n",
              "\n",
              "    Null deviance: 236.64  on 110  degrees of freedom\n",
              "Residual deviance: 215.68  on 108  degrees of freedom\n",
              "AIC: 396.74\n",
              "\n",
              "Number of Fisher Scoring iterations: 2\n"
            ]
          },
          "metadata": {}
        }
      ]
    },
    {
      "cell_type": "code",
      "source": [
        "summary(gauss3)"
      ],
      "metadata": {
        "colab": {
          "base_uri": "https://localhost:8080/",
          "height": 444
        },
        "id": "IwMB_v1wbKhl",
        "outputId": "f48f49e6-d6af-4432-ea58-b8e488561630"
      },
      "id": "IwMB_v1wbKhl",
      "execution_count": null,
      "outputs": [
        {
          "output_type": "display_data",
          "data": {
            "text/plain": [
              "\n",
              "Call:\n",
              "glm(formula = hy3, family = \"gaussian\", data = fromPy)\n",
              "\n",
              "Deviance Residuals: \n",
              "    Min       1Q   Median       3Q      Max  \n",
              "-4.1917  -0.1111   0.1567   0.3569   1.7595  \n",
              "\n",
              "Coefficients:\n",
              "                   Estimate Std. Error t value Pr(>|t|)    \n",
              "(Intercept)       3.581e+00  2.043e-01  17.526  < 2e-16 ***\n",
              "expenditureratio  1.806e-01  4.251e-02   4.249  4.6e-05 ***\n",
              "unemploymentrate -1.498e-02  5.745e-03  -2.607   0.0104 *  \n",
              "GDPpercapita      5.284e-05  3.270e-06  16.157  < 2e-16 ***\n",
              "---\n",
              "Signif. codes:  0 ‘***’ 0.001 ‘**’ 0.01 ‘*’ 0.05 ‘.’ 0.1 ‘ ’ 1\n",
              "\n",
              "(Dispersion parameter for gaussian family taken to be 0.5860248)\n",
              "\n",
              "    Null deviance: 236.643  on 110  degrees of freedom\n",
              "Residual deviance:  62.705  on 107  degrees of freedom\n",
              "AIC: 261.61\n",
              "\n",
              "Number of Fisher Scoring iterations: 2\n"
            ]
          },
          "metadata": {}
        }
      ]
    },
    {
      "cell_type": "code",
      "source": [
        "#seeing r-squared values\n",
        "install.packages(\"rsq\")\n",
        "library(rsq)\n",
        "rsq(gauss1,adj=T); rsq(gauss2, adj=T); rsq(gauss3, adj=T)"
      ],
      "metadata": {
        "colab": {
          "base_uri": "https://localhost:8080/",
          "height": 123
        },
        "id": "0WPfJEulbNzy",
        "outputId": "631622f2-130a-476d-ad6c-bf176439ee11"
      },
      "id": "0WPfJEulbNzy",
      "execution_count": null,
      "outputs": [
        {
          "output_type": "stream",
          "name": "stderr",
          "text": [
            "Installing package into ‘/usr/local/lib/R/site-library’\n",
            "(as ‘lib’ is unspecified)\n",
            "\n"
          ]
        },
        {
          "output_type": "display_data",
          "data": {
            "text/html": [
              "0.0518317378408631"
            ],
            "text/markdown": "0.0518317378408631",
            "text/latex": "0.0518317378408631",
            "text/plain": [
              "[1] 0.05183174"
            ]
          },
          "metadata": {}
        },
        {
          "output_type": "display_data",
          "data": {
            "text/html": [
              "0.0717159725717336"
            ],
            "text/markdown": "0.0717159725717336",
            "text/latex": "0.0717159725717336",
            "text/plain": [
              "[1] 0.07171597"
            ]
          },
          "metadata": {}
        },
        {
          "output_type": "display_data",
          "data": {
            "text/html": [
              "0.727594574935856"
            ],
            "text/markdown": "0.727594574935856",
            "text/latex": "0.727594574935856",
            "text/plain": [
              "[1] 0.7275946"
            ]
          },
          "metadata": {}
        }
      ]
    },
    {
      "cell_type": "code",
      "source": [
        "anova(gauss1, gauss2, gauss3, test=\"Chisq\")"
      ],
      "metadata": {
        "colab": {
          "base_uri": "https://localhost:8080/",
          "height": 192
        },
        "id": "u6P2d278cPod",
        "outputId": "0f0a29ae-be54-486e-ecb3-e50b5b8e854d"
      },
      "id": "u6P2d278cPod",
      "execution_count": null,
      "outputs": [
        {
          "output_type": "display_data",
          "data": {
            "text/html": [
              "<table class=\"dataframe\">\n",
              "<caption>A anova: 3 × 5</caption>\n",
              "<thead>\n",
              "\t<tr><th></th><th scope=col>Resid. Df</th><th scope=col>Resid. Dev</th><th scope=col>Df</th><th scope=col>Deviance</th><th scope=col>Pr(&gt;Chi)</th></tr>\n",
              "\t<tr><th></th><th scope=col>&lt;dbl&gt;</th><th scope=col>&lt;dbl&gt;</th><th scope=col>&lt;dbl&gt;</th><th scope=col>&lt;dbl&gt;</th><th scope=col>&lt;dbl&gt;</th></tr>\n",
              "</thead>\n",
              "<tbody>\n",
              "\t<tr><th scope=row>1</th><td>109</td><td>222.33719</td><td>NA</td><td>        NA</td><td>          NA</td></tr>\n",
              "\t<tr><th scope=row>2</th><td>108</td><td>215.67750</td><td> 1</td><td>  6.659694</td><td>7.487393e-04</td></tr>\n",
              "\t<tr><th scope=row>3</th><td>107</td><td> 62.70465</td><td> 1</td><td>152.972852</td><td>1.020839e-58</td></tr>\n",
              "</tbody>\n",
              "</table>\n"
            ],
            "text/markdown": "\nA anova: 3 × 5\n\n| <!--/--> | Resid. Df &lt;dbl&gt; | Resid. Dev &lt;dbl&gt; | Df &lt;dbl&gt; | Deviance &lt;dbl&gt; | Pr(&gt;Chi) &lt;dbl&gt; |\n|---|---|---|---|---|---|\n| 1 | 109 | 222.33719 | NA |         NA |           NA |\n| 2 | 108 | 215.67750 |  1 |   6.659694 | 7.487393e-04 |\n| 3 | 107 |  62.70465 |  1 | 152.972852 | 1.020839e-58 |\n\n",
            "text/latex": "A anova: 3 × 5\n\\begin{tabular}{r|lllll}\n  & Resid. Df & Resid. Dev & Df & Deviance & Pr(>Chi)\\\\\n  & <dbl> & <dbl> & <dbl> & <dbl> & <dbl>\\\\\n\\hline\n\t1 & 109 & 222.33719 & NA &         NA &           NA\\\\\n\t2 & 108 & 215.67750 &  1 &   6.659694 & 7.487393e-04\\\\\n\t3 & 107 &  62.70465 &  1 & 152.972852 & 1.020839e-58\\\\\n\\end{tabular}\n",
            "text/plain": [
              "  Resid. Df Resid. Dev Df Deviance   Pr(>Chi)    \n",
              "1 109       222.33719  NA         NA           NA\n",
              "2 108       215.67750   1   6.659694 7.487393e-04\n",
              "3 107        62.70465   1 152.972852 1.020839e-58"
            ]
          },
          "metadata": {}
        }
      ]
    },
    {
      "cell_type": "code",
      "source": [
        "plot(gauss3,1)"
      ],
      "metadata": {
        "colab": {
          "base_uri": "https://localhost:8080/",
          "height": 437
        },
        "id": "WrpdadLRc7dB",
        "outputId": "575192ce-35e0-465b-85a2-c5cf7f21495e"
      },
      "id": "WrpdadLRc7dB",
      "execution_count": null,
      "outputs": [
        {
          "output_type": "display_data",
          "data": {
            "text/plain": [
              "Plot with title “”"
            ],
            "image/png": "[encoded data removed]"
          },
          "metadata": {
            "image/png": {
              "width": 420,
              "height": 420
            }
          }
        }
      ]
    },
    {
      "cell_type": "code",
      "source": [
        "plot(gauss3, 2)"
      ],
      "metadata": {
        "colab": {
          "base_uri": "https://localhost:8080/",
          "height": 437
        },
        "id": "QuLoqnhfdHq_",
        "outputId": "107beb75-4d7d-4922-dc1f-f8213c8a03d2"
      },
      "id": "QuLoqnhfdHq_",
      "execution_count": null,
      "outputs": [
        {
          "output_type": "display_data",
          "data": {
            "text/plain": [
              "Plot with title “”"
            ],
            "image/png": "[encoded data removed]"
          },
          "metadata": {
            "image/png": {
              "width": 420,
              "height": 420
            }
          }
        }
      ]
    },
    {
      "cell_type": "code",
      "source": [
        "install.packages(\"sjPlot\")\n",
        "library(sjPlot)\n",
        "plot_models(gauss1, gauss2, gauss3, vline.color =\"grey\")"
      ],
      "metadata": {
        "colab": {
          "base_uri": "https://localhost:8080/",
          "height": 564
        },
        "id": "lQpd9AuAdVDd",
        "outputId": "5e05c3ea-7c21-4f1b-8575-1196640efc92"
      },
      "id": "lQpd9AuAdVDd",
      "execution_count": null,
      "outputs": [
        {
          "output_type": "stream",
          "name": "stderr",
          "text": [
            "Installing package into ‘/usr/local/lib/R/site-library’\n",
            "(as ‘lib’ is unspecified)\n",
            "\n",
            "also installing the dependencies ‘estimability’, ‘emmeans’, ‘bayestestR’, ‘datawizard’, ‘effectsize’, ‘ggeffects’, ‘insight’, ‘parameters’, ‘performance’, ‘sjlabelled’, ‘sjmisc’, ‘sjstats’\n",
            "\n",
            "\n"
          ]
        },
        {
          "output_type": "display_data",
          "data": {
            "text/plain": [
              "plot without title"
            ],
            "image/png": "[encoded data removed]"
          },
          "metadata": {
            "image/png": {
              "width": 420,
              "height": 420
            }
          }
        }
      ]
    },
    {
      "cell_type": "markdown",
      "source": [
        "While doing Factor Analysis, I ran into some problems that one of my column is not numeric, so I didn't analyze country into my factor analysis. The Factor Analysis found that unemployment rate, HIV rate, and education expenditure rate have similarities in variables. By running a regression, you can see how each of these variables are statistically significance with each other. Our Hypothesis is that HIV is related to education expenditure, GDP per capita, and unemployment rate. We found that that they're all statiscally significance with P.value < 2. We can assess that HIV"
      ],
      "metadata": {
        "id": "2FIw_I0EenCa"
      },
      "id": "2FIw_I0EenCa"
    }
  ],
  "metadata": {
    "kernelspec": {
      "display_name": "R",
      "language": "R",
      "name": "ir"
    },
    "language_info": {
      "codemirror_mode": "r",
      "file_extension": ".r",
      "mimetype": "text/x-r-source",
      "name": "R",
      "pygments_lexer": "r",
      "version": "3.6.1"
    },
    "colab": {
      "provenance": [],
      "include_colab_link": true
    }
  },
  "nbformat": 4,
  "nbformat_minor": 5
}